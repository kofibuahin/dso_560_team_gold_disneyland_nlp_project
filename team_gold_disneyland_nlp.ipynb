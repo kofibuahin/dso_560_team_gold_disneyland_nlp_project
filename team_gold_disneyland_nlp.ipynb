{
  "cells": [
    {
      "cell_type": "markdown",
      "metadata": {
        "id": "22D7lPdhu-sH"
      },
      "source": [
        "#### Imports and Downloads"
      ]
    },
    {
      "cell_type": "code",
      "execution_count": null,
      "metadata": {
        "id": "P3BGN-Wuk_yo"
      },
      "outputs": [],
      "source": [
        "# !pip install textacy\n",
        "# !pip install transformers\n",
        "# !pip install sentence-transformers\n",
        "# !pip install top2vec\n",
        "# !pip install pandas scikit-learn"
      ]
    },
    {
      "cell_type": "code",
      "execution_count": null,
      "metadata": {
        "colab": {
          "base_uri": "https://localhost:8080/"
        },
        "id": "_8dQRltpJ6kg",
        "outputId": "a4f3e10c-5c1a-41d9-fc10-a3848f906e9a"
      },
      "outputs": [
        {
          "output_type": "stream",
          "name": "stdout",
          "text": [
            "\u001b[38;5;2m✔ Download and installation successful\u001b[0m\n",
            "You can now load the package via spacy.load('en_core_web_sm')\n"
          ]
        }
      ],
      "source": [
        "import pandas as pd\n",
        "from textacy.preprocessing.replace import urls, hashtags, numbers, emails, emojis, currency_symbols\n",
        "from textacy.preprocessing.remove import punctuation\n",
        "import matplotlib.pyplot as plt\n",
        "import numpy as np\n",
        "import sklearn\n",
        "\n",
        "from sklearn.feature_extraction.text import CountVectorizer\n",
        "\n",
        "from gensim.parsing.preprocessing import remove_stopwords\n",
        "from sklearn.feature_extraction.text import TfidfVectorizer\n",
        "import re\n",
        "\n",
        "from sklearn.preprocessing import OneHotEncoder\n",
        "from sklearn.model_selection import train_test_split\n",
        "from sklearn.linear_model import LogisticRegression\n",
        "from sklearn.metrics import confusion_matrix\n",
        "from sklearn.metrics import f1_score\n",
        "from sklearn.metrics import roc_auc_score\n",
        "from sklearn.datasets import make_classification\n",
        "from typing import List\n",
        "from sklearn.decomposition import NMF\n",
        "\n",
        "import spacy\n",
        "from spacy import displacy\n",
        "import pandas as pd\n",
        "\n",
        "from wordcloud import WordCloud\n",
        "\n",
        "from top2vec import Top2Vec\n",
        "\n",
        "from transformers import BertTokenizer, BertForSequenceClassification, pipeline\n",
        "import torch\n",
        "\n",
        "spacy.cli.download(\"en_core_web_sm\")\n",
        "nlp = spacy.load(\"en_core_web_sm\")"
      ]
    },
    {
      "cell_type": "markdown",
      "metadata": {
        "id": "cYhfppsJvBGu"
      },
      "source": [
        "#### Import Dataset"
      ]
    },
    {
      "cell_type": "code",
      "execution_count": null,
      "metadata": {
        "id": "z8n3dR8PJ9Dk"
      },
      "outputs": [],
      "source": [
        "disney = pd.read_csv('DisneylandReviews.csv', encoding='latin-1',on_bad_lines='skip')\n"
      ]
    },
    {
      "cell_type": "markdown",
      "metadata": {
        "id": "iq6cH0qgvDtg"
      },
      "source": [
        "#### Data Cleaning"
      ]
    },
    {
      "cell_type": "code",
      "execution_count": null,
      "metadata": {
        "colab": {
          "base_uri": "https://localhost:8080/"
        },
        "id": "H9-iuJuTyk4f",
        "outputId": "1db59d61-a63e-4b69-ceab-e0403cde562e"
      },
      "outputs": [
        {
          "output_type": "stream",
          "name": "stderr",
          "text": [
            "<ipython-input-24-fdb0fb58ff65>:9: SettingWithCopyWarning: \n",
            "A value is trying to be set on a copy of a slice from a DataFrame\n",
            "\n",
            "See the caveats in the documentation: https://pandas.pydata.org/pandas-docs/stable/user_guide/indexing.html#returning-a-view-versus-a-copy\n",
            "  disney.Branch[i] = 'HongKong'\n",
            "<ipython-input-24-fdb0fb58ff65>:7: SettingWithCopyWarning: \n",
            "A value is trying to be set on a copy of a slice from a DataFrame\n",
            "\n",
            "See the caveats in the documentation: https://pandas.pydata.org/pandas-docs/stable/user_guide/indexing.html#returning-a-view-versus-a-copy\n",
            "  disney.Branch[i] = 'California'\n",
            "<ipython-input-24-fdb0fb58ff65>:5: SettingWithCopyWarning: \n",
            "A value is trying to be set on a copy of a slice from a DataFrame\n",
            "\n",
            "See the caveats in the documentation: https://pandas.pydata.org/pandas-docs/stable/user_guide/indexing.html#returning-a-view-versus-a-copy\n",
            "  disney.Branch[i] = 'Paris'\n"
          ]
        }
      ],
      "source": [
        "# taking off Disneyland from branch name as all branches are Disney locations\n",
        "\n",
        "for i in range(len(disney['Branch'])):\n",
        "  if disney.Branch[i] == 'Disneyland_Paris':\n",
        "    disney.Branch[i] = 'Paris'\n",
        "  elif disney.Branch[i] == 'Disneyland_California':\n",
        "    disney.Branch[i] = 'California'\n",
        "  else:\n",
        "    disney.Branch[i] = 'HongKong'"
      ]
    },
    {
      "cell_type": "code",
      "execution_count": null,
      "metadata": {
        "colab": {
          "base_uri": "https://localhost:8080/"
        },
        "id": "rsG7JeVvSoN7",
        "outputId": "a37b6279-2b8d-41c3-8a34-318ea23c83ba"
      },
      "outputs": [
        {
          "output_type": "stream",
          "name": "stdout",
          "text": [
            "Review_ID nulls:  0\n",
            "Rating nulls:  0\n",
            "Year_Month nulls:  0\n",
            "Reviewer_Location nulls:  0\n",
            "Review_Text nulls:  0\n",
            "Branch nulls:  0\n"
          ]
        }
      ],
      "source": [
        "# checking to make sure there are no NA values to impute\n",
        "for i in disney.columns:\n",
        "  print(i, 'nulls: ', disney[i].isna().sum())"
      ]
    },
    {
      "cell_type": "code",
      "execution_count": null,
      "metadata": {
        "id": "cuTI0y7QJ_Ob"
      },
      "outputs": [],
      "source": [
        "# removing punctuation\n",
        "disney['Review_Text'] = disney['Review_Text'].apply(punctuation)\n",
        "\n",
        "# Convert to lowercase \n",
        "disney['Review_Text'] = disney['Review_Text'].map(lambda x: x.lower())\n",
        "\n",
        "# Replace common entities/concepts \n",
        "disney['Review_Text'] = disney['Review_Text'].\\\n",
        " apply(urls).\\\n",
        " apply(hashtags).\\\n",
        " apply(currency_symbols).\\\n",
        " apply(emojis).\\\n",
        " apply(emails)"
      ]
    },
    {
      "cell_type": "code",
      "execution_count": null,
      "metadata": {
        "id": "WVGszi61tLx-"
      },
      "outputs": [],
      "source": [
        "# removing stopwords from gensim's library\n",
        "\n",
        "for index, row in disney.iterrows():\n",
        "  row['Review_Text'] = remove_stopwords(row['Review_Text'])"
      ]
    },
    {
      "cell_type": "code",
      "execution_count": null,
      "metadata": {
        "colab": {
          "base_uri": "https://localhost:8080/"
        },
        "id": "eZc-H-fRspnR",
        "outputId": "18999b0b-1a87-4747-a445-3cbec029b263"
      },
      "outputs": [
        {
          "output_type": "stream",
          "name": "stderr",
          "text": [
            "<ipython-input-28-19ace667c720>:6: SettingWithCopyWarning: \n",
            "A value is trying to be set on a copy of a slice from a DataFrame\n",
            "\n",
            "See the caveats in the documentation: https://pandas.pydata.org/pandas-docs/stable/user_guide/indexing.html#returning-a-view-versus-a-copy\n",
            "  disney['rating_sentiment'][i] = 'POSITIVE'\n",
            "<ipython-input-28-19ace667c720>:8: SettingWithCopyWarning: \n",
            "A value is trying to be set on a copy of a slice from a DataFrame\n",
            "\n",
            "See the caveats in the documentation: https://pandas.pydata.org/pandas-docs/stable/user_guide/indexing.html#returning-a-view-versus-a-copy\n",
            "  disney['rating_sentiment'][i] = 'NEGATIVE'\n"
          ]
        }
      ],
      "source": [
        "# using the 1-5 ratings given by customers to create a positive/negative review sentiment \n",
        "\n",
        "disney['rating_sentiment'] = ''\n",
        "for i in range(len(disney)):\n",
        "  if disney['Rating'][i] >= 3:\n",
        "    disney['rating_sentiment'][i] = 'POSITIVE'\n",
        "  else:\n",
        "    disney['rating_sentiment'][i] = 'NEGATIVE'"
      ]
    },
    {
      "cell_type": "code",
      "execution_count": null,
      "metadata": {
        "colab": {
          "base_uri": "https://localhost:8080/"
        },
        "id": "Pv4MPfWQuksM",
        "outputId": "6c085aa3-88a5-4e26-f092-f4cebd812c48"
      },
      "outputs": [
        {
          "output_type": "execute_result",
          "data": {
            "text/plain": [
              "[('park', 21427),\n",
              " ('rides', 20678),\n",
              " ('disneyland', 19798),\n",
              " ('disney', 18986),\n",
              " ('time', 17744),\n",
              " ('day', 16478),\n",
              " ('great', 12079),\n",
              " ('just', 11073),\n",
              " ('food', 10629),\n",
              " ('place', 10490),\n",
              " ('ride', 10196),\n",
              " ('kids', 9579),\n",
              " ('good', 9497),\n",
              " ('visit', 9065),\n",
              " ('like', 8690),\n",
              " ('really', 8618),\n",
              " ('went', 8413),\n",
              " ('long', 8285),\n",
              " ('fun', 8044),\n",
              " ('people', 7419)]"
            ]
          },
          "metadata": {},
          "execution_count": 29
        }
      ],
      "source": [
        "# seeing most frequent words to determine what to regex\n",
        "\n",
        "vec = CountVectorizer(stop_words=\"english\", binary=True).fit(disney['Review_Text'])\n",
        "bag_of_words = vec.transform(disney['Review_Text'])\n",
        "sum_words = bag_of_words.sum(axis=0)\n",
        "words_freq = [(word, sum_words[0, idx]) for word, idx in vec.vocabulary_.items()]\n",
        "words_freq =sorted(words_freq, key = lambda x: x[1], reverse=True)\n",
        "words_freq[0:20]"
      ]
    },
    {
      "cell_type": "markdown",
      "metadata": {
        "id": "Y_I4G4cxuy5s"
      },
      "source": [
        "From the top 10 words, you can see that Disneyland and Disney are being treated as two separate words and therefore dulling the signal from this word. Decided to standardize it and the name variations of different locations.  "
      ]
    },
    {
      "cell_type": "code",
      "execution_count": null,
      "metadata": {
        "id": "yjkdmT2Mt7ky"
      },
      "outputs": [],
      "source": [
        "# lots of Disney vs. Disneyland -- helps to standardize\n",
        "disney['Review_Text'] = disney['Review_Text'].str.replace(r'\\b(Disney\\s?land|Disney\\s?world)\\b', 'Disney', regex=True, flags=re.IGNORECASE)\n",
        "disney['Review_Text'] = disney['Review_Text'].str.replace(r'\\b(Hong Kong|HK)\\b', 'HongKong', regex=True, flags=re.IGNORECASE)\n",
        "disney['Review_Text'] = disney['Review_Text'].str.replace(r'\\b(Los Angeles|LA)\\b', 'LosAngeles', regex=True, flags=re.IGNORECASE)\n",
        "disney['Review_Text'] = disney['Review_Text'].str.replace(r'\\b(Paris|Euro\\s?Disney)\\b', 'Paris', regex=True, flags=re.IGNORECASE)"
      ]
    },
    {
      "cell_type": "code",
      "execution_count": null,
      "metadata": {
        "id": "nOn2ZV5Bkew1"
      },
      "outputs": [],
      "source": [
        "# regex to make rides one word \n",
        "disney['Review_Text'] = disney['Review_Text'].str.replace(r'\\b(it\\'s a small word|its a small world )\\b', 'ITS_A_SMALL_WORLD', regex=True, flags=re.IGNORECASE)\n",
        "disney['Review_Text'] = disney['Review_Text'].str.replace(r'\\b(big )?thunder (mtn|mountain)( railroad)?\\b', 'THUNDER_MTN', regex=True, flags=re.IGNORECASE)\n",
        "disney['Review_Text'] = disney['Review_Text'].str.replace(r'\\b(space) (mtn|mountain)\\b', 'SPACE_MTN', regex=True, flags=re.IGNORECASE)\n",
        "disney['Review_Text'] = disney['Review_Text'].str.replace(r'\\b(Indiana Jones|Indiana)\\b', 'INDIANA_JONES', regex=True, flags=re.IGNORECASE)\n",
        "disney['Review_Text'] = disney['Review_Text'].str.replace(r'\\b((The )?Haunted Mansion|HM|Haunted Mansuon)\\b', 'THE_HAUNTED_MANSION', regex=True, flags=re.IGNORECASE)\n",
        "disney['Review_Text'] = disney['Review_Text'].str.replace(r'\\b(Pirates of the Caribbean|Pirates)\\b', 'PIRATES_OF_THE_CARIBBEAN', regex=True, flags=re.IGNORECASE)\n",
        "disney['Review_Text'] = disney['Review_Text'].str.replace(r'\\b(Matterhorn Bobsleds|Matterhorn)\\b', 'MATTERHORN_BOBSLEDS', regex=True, flags=re.IGNORECASE)\n",
        "\n",
        "disney['Review_Text'] = disney['Review_Text'].str.replace(r'\\b(splash) (mtn|mountain)\\b', 'SPLASH_MTN', regex=True, flags=re.IGNORECASE)\n",
        "disney['Review_Text'] = disney['Review_Text'].str.replace(r'\\b(Toy Story Parachute( Ride)?|parachute( drop)?( ride)?)\\b', 'TOY_STORY_PARACHUTE', regex=True, flags=re.IGNORECASE)\n",
        "disney['Review_Text'] = disney['Review_Text'].str.replace(r'\\b(Grizzly( river)? run|Grizzly river( ride)?)\\b', 'GRIZZLY_RIVER_RUN', regex=True, flags=re.IGNORECASE)\n",
        "disney['Review_Text'] = disney['Review_Text'].str.replace(r'\\b(Big Grizzly)?(Mountain|mtn)? runaway mine cars\\b', 'RUNAWAY_MINE_CARS', regex=True, flags=re.IGNORECASE)\n",
        "disney['Review_Text'] = disney['Review_Text'].str.replace(r\"\\b(Aerosmith( ride)?|Aeromosmith Rock and Roller Coaster|Aerosmith coaster|aerosmith rock 'n' roller|aerosmith rock and rollercoaster|aerosmith rock'nd? roller(coaster)?|rock'n roll coaster aerosmith|Aerosmith( coaster)?)\\b\", 'AEROMSITH_ROCKNROLLER', regex=True, flags=re.IGNORECASE)\n",
        "disney['Review_Text'] = disney['Review_Text'].str.replace(r\"\\b(crush's coasters?)\\b\", \"CRUSH'S_COASTER\", regex=True, flags=re.IGNORECASE)\n",
        "disney['Review_Text'] = disney['Review_Text'].str.replace(r\"\\b(buzz|buzz lightyear|buzz light( yr| years?)?)\\b\", \"BUZZ_LIGHTYEAR\", regex=True, flags=re.IGNORECASE)\n",
        "disney['Review_Text'] = disney['Review_Text'].str.replace(r\"\\b(dumbo the flying elephants?|flying dumbo elephants?|flying elephants?|dumbo flying elephants?|dumbo's elephants?|dumbo)\\b\", \"DUMBO_FLYING_ELEPHANT\", regex=True, flags=re.IGNORECASE)\n",
        "disney['Review_Text'] = disney['Review_Text'].str.replace(r\"\\b(Le Temple du Peril|(the )?temple of peril)\\b\", \"TEMPLE_OF_PERIL\", regex=True, flags=re.IGNORECASE)\n",
        "disney['Review_Text'] = disney['Review_Text'].str.replace(r\"\\b(terror tower|tower of terror)\\b\", \"TOWER_OF_TERROR\", regex=True, flags=re.IGNORECASE)\n"
      ]
    },
    {
      "cell_type": "code",
      "execution_count": null,
      "metadata": {
        "id": "nJEU3JsVGwDz"
      },
      "outputs": [],
      "source": [
        "# regex grouping for people\n",
        "partners = 'wife|husband|wifey|spouse|girlfriend|\\\\bgf\\\\b|boyfriend|\\\\bbf\\\\b'\n",
        "parent = '|mom|dad|grand \\w+|grand?(daughter\\w?|son\\w?|mother\\w?|father\\w?|parent\\w?|kid\\w?|child\\w*)'\n",
        "relatives = '|\\\\bsister\\\\b|brother\\w?\\\\b|\\\\bsis\\\\b|\\\\bbro\\\\b|cousin'\n",
        "side_parents = '|\\\\baunt\\w*\\b|\\\\buncle\\\\b'\n",
        "kids = '|\\\\bdaughter|\\\\bson\\w?\\\\b|toddler|kid\\w?|\\\\bchildren\\\\b|my\\s?(\\\\bboy\\w*\\\\b|\\\\bgirl\\w*\\\\b)'\n",
        "age_kids = '|\\\\b\\w+ year old\\\\b|\\\\b\\w+\\syr?(\\w+ old)\\\\b|\\\\b\\w+yr?(\\w+ old)\\\\b'\n",
        "side_kids = '|god?(\\w daughter|\\wdaughter|\\wson|\\w son|\\w child|\\wchild)|niece|nephew'\n",
        "others = '|family|families|friends?|best\\s?friends?'\n",
        "visitors_regex = partners + parent + relatives + side_parents + kids + age_kids + side_kids + others\n",
        "\n",
        "disney['Review_Text'] = disney['Review_Text'].str.replace(r'({})'.format(visitors_regex), \"VISITOR\", regex=True, flags = re.IGNORECASE)\n"
      ]
    },
    {
      "cell_type": "code",
      "execution_count": null,
      "metadata": {
        "id": "q9HfcNVnsPFi"
      },
      "outputs": [],
      "source": [
        "disney = disney.sample(1000, random_state=42).reset_index() # getting sample to make deataset more manageable\n",
        "\n",
        "# lemmatize the review column\n",
        "def lemmatize(doc: str):\n",
        "    return \" \".join([token.lemma_ for token in nlp(doc)])\n",
        "\n",
        "disney['lemma_reviews'] = disney.Review_Text.apply(lemmatize)"
      ]
    },
    {
      "cell_type": "markdown",
      "metadata": {
        "id": "L2z9SoDWvbz_"
      },
      "source": [
        "#### Sentiment Analysis Model\n"
      ]
    },
    {
      "cell_type": "markdown",
      "metadata": {
        "id": "rhoh1kjcDAth"
      },
      "source": []
    },
    {
      "cell_type": "code",
      "execution_count": null,
      "metadata": {
        "colab": {
          "base_uri": "https://localhost:8080/"
        },
        "id": "j0bCeplYfTfC",
        "outputId": "1b7426db-8542-4c23-d4e7-a46d5bb61fa1"
      },
      "outputs": [
        {
          "output_type": "stream",
          "name": "stderr",
          "text": [
            "No model was supplied, defaulted to distilbert-base-uncased-finetuned-sst-2-english and revision af0f99b (https://huggingface.co/distilbert-base-uncased-finetuned-sst-2-english).\n",
            "Using a pipeline without specifying a model name and revision in production is not recommended.\n"
          ]
        }
      ],
      "source": [
        "disney_sample = disney.sample(500).reset_index()\n",
        "classifier = pipeline('sentiment-analysis')"
      ]
    },
    {
      "cell_type": "code",
      "execution_count": null,
      "metadata": {
        "colab": {
          "base_uri": "https://localhost:8080/"
        },
        "id": "eX9IvzD1y4nt",
        "outputId": "c6345358-e2ca-4cd2-9d01-fb734909b93a"
      },
      "outputs": [
        {
          "output_type": "stream",
          "name": "stderr",
          "text": [
            "<ipython-input-35-1b9ee69ba000>:5: SettingWithCopyWarning: \n",
            "A value is trying to be set on a copy of a slice from a DataFrame\n",
            "\n",
            "See the caveats in the documentation: https://pandas.pydata.org/pandas-docs/stable/user_guide/indexing.html#returning-a-view-versus-a-copy\n",
            "  disney_sample['sentiment_pred'][i] = list(classifier(disney_sample['lemma_reviews'][i][:512])[0].values())[0]\n"
          ]
        }
      ],
      "source": [
        "# running the sentiment classifier on each line of reviews and creating the predictions based on that\n",
        "disney_sample['sentiment_pred'] = ''\n",
        "\n",
        "for i in range(len(disney_sample)):\n",
        "  disney_sample['sentiment_pred'][i] = list(classifier(disney_sample['lemma_reviews'][i][:512])[0].values())[0]\n",
        "\n",
        "review_sentiment_pred = list(disney_sample['sentiment_pred'])\n",
        "true_rating = list(disney_sample['rating_sentiment'])"
      ]
    },
    {
      "cell_type": "code",
      "execution_count": null,
      "metadata": {
        "colab": {
          "base_uri": "https://localhost:8080/"
        },
        "id": "DmBg7PWl3jC-",
        "outputId": "f1b7ec3b-be42-4cae-ed0f-21ac81ac1a2b"
      },
      "outputs": [
        {
          "output_type": "stream",
          "name": "stdout",
          "text": [
            "[[ 35   8]\n",
            " [118 339]]\n",
            "accuracy: 0.748\n",
            "precision: 0.9769452449567724\n",
            "recall: 0.7417943107221007\n",
            "f1 score:  0.8432835820895523\n"
          ]
        }
      ],
      "source": [
        "print(confusion_matrix(true_rating, review_sentiment_pred))\n",
        "\n",
        "# print('f1 score:', f1_score(true_rating, review_sentiment_pred, labels=None, pos_label=1, average='weighted', sample_weight=None, zero_division='warn'))\n",
        "\n",
        "TP = 0\n",
        "FP = 0\n",
        "TN = 0\n",
        "FN = 0\n",
        "\n",
        "for i in range(len(disney_sample)):\n",
        "  if disney_sample['rating_sentiment'][i] == 'POSITIVE' and disney_sample['sentiment_pred'][i] == 'POSITIVE':\n",
        "    TP += 1\n",
        "  elif disney_sample['rating_sentiment'][i] == 'NEGATIVE' and disney_sample['sentiment_pred'][i] == 'NEGATIVE':\n",
        "    TN += 1\n",
        "  elif disney_sample['rating_sentiment'][i] == 'NEGATIVE' and disney_sample['sentiment_pred'][i] == 'POSITIVE':\n",
        "    FP += 1\n",
        "  elif disney_sample['rating_sentiment'][i] == 'POSITIVE' and disney_sample['sentiment_pred'][i] == 'NEGATIVE':\n",
        "    FN += 1\n",
        "\n",
        "precision = (TP)/ (TP +FP)\n",
        "recall = (TP)/ (TP + FN)\n",
        "print('accuracy:', (TP + TN)/ (TN + TP + FN + FP))\n",
        "print('precision:', precision)\n",
        "print('recall:', recall)\n",
        "print('f1 score: ', 2 * ((precision * recall)/(precision + recall)))"
      ]
    },
    {
      "cell_type": "markdown",
      "metadata": {
        "id": "7wCyfPiE0ho6"
      },
      "source": [
        "#### Logistic Regression for Sentiment Analysis"
      ]
    },
    {
      "cell_type": "code",
      "execution_count": null,
      "metadata": {
        "colab": {
          "base_uri": "https://localhost:8080/"
        },
        "id": "J8wV8dLz0tOf",
        "outputId": "ad8175a8-e03c-45ab-d90e-cdf9b701d0b3"
      },
      "outputs": [
        {
          "output_type": "stream",
          "name": "stdout",
          "text": [
            "model prediction for first 5 docs in training: \n",
            " ['POSITIVE' 'NEGATIVE' 'POSITIVE' 'POSITIVE' 'POSITIVE']\n",
            "\n",
            "confusion matrix for training\n",
            " [[ 79   0]\n",
            " [  0 671]]\n",
            "confusion matrix for testing\n",
            " [[  0  19]\n",
            " [  0 231]]\n",
            "\n",
            "logistic regression training score:  1.0\n",
            "logistic regression test score:  0.924\n",
            "accuracy: 0.924\n",
            "precision: 0.8537760000000001\n",
            "recall: 0.924\n",
            "f1 score: 0.8875010395010396\n"
          ]
        },
        {
          "output_type": "stream",
          "name": "stderr",
          "text": [
            "/usr/local/lib/python3.8/dist-packages/sklearn/metrics/_classification.py:1318: UndefinedMetricWarning: Precision is ill-defined and being set to 0.0 in labels with no predicted samples. Use `zero_division` parameter to control this behavior.\n",
            "  _warn_prf(average, modifier, msg_start, len(result))\n"
          ]
        }
      ],
      "source": [
        "# countvectorizer\n",
        "count_vec = CountVectorizer(ngram_range = (2, 2), stop_words=\"english\", binary=True)\n",
        "X_c = count_vec.fit_transform(disney[\"lemma_reviews\"]) # using a sample instead of entire dataset\n",
        "count_vec_df = pd.DataFrame(X_c.toarray(), columns=count_vec.get_feature_names_out())\n",
        "\n",
        "X_c = count_vec.fit_transform(disney['lemma_reviews'])\n",
        "\n",
        "y = disney['rating_sentiment']\n",
        "\n",
        "X_c_train, X_c_test, y_c_train, y_c_test = train_test_split(X_c, y, random_state = 0)\n",
        "\n",
        "logistic_regression_c = LogisticRegression(max_iter=10000)\n",
        "logistic_regression_c.fit(X_c_train, y_c_train)\n",
        "training_predictions_c = logistic_regression_c.predict(X_c_train)\n",
        "test_predictions_c = logistic_regression_c.predict(X_c_test)\n",
        "y_c_probabilities = logistic_regression_c.predict_proba(X_c_test)\n",
        "\n",
        "print('model prediction for first 5 docs in training: \\n', training_predictions_c[:5])\n",
        "print('\\nconfusion matrix for training\\n', confusion_matrix(y_c_train, training_predictions_c))\n",
        "print('confusion matrix for testing\\n', confusion_matrix(y_c_test, test_predictions_c))\n",
        "print('\\nlogistic regression training score: ', logistic_regression_c.score(X_c_train, y_c_train))\n",
        "print('logistic regression test score: ', logistic_regression_c.score(X_c_test, y_c_test))\n",
        "\n",
        "print('accuracy:', sklearn.metrics.accuracy_score(y_c_test, test_predictions_c, normalize=True, sample_weight=None))\n",
        "print('precision:', sklearn.metrics.precision_score(y_c_test, test_predictions_c, labels=None, pos_label = 1, average='weighted', sample_weight=None, zero_division='warn'))\n",
        "print('recall:', sklearn.metrics.recall_score(y_c_test, test_predictions_c, labels=None, pos_label = 1, average='weighted', sample_weight=None, zero_division='warn'))\n",
        "print('f1 score:', f1_score(y_c_test, test_predictions_c, labels=None, pos_label=1, average='weighted', sample_weight=None, zero_division='warn'))"
      ]
    },
    {
      "cell_type": "code",
      "execution_count": null,
      "metadata": {
        "colab": {
          "base_uri": "https://localhost:8080/"
        },
        "id": "GpduwGts07pe",
        "outputId": "033b5b18-7890-4d7c-89f4-19bb24cb903d"
      },
      "outputs": [
        {
          "output_type": "stream",
          "name": "stdout",
          "text": [
            "model prediction for first 5 docs in training: \n",
            " ['POSITIVE' 'POSITIVE' 'POSITIVE' 'POSITIVE' 'POSITIVE']\n",
            "\n",
            "confusion matrix for training\n",
            " [[  0  79]\n",
            " [  0 671]]\n",
            "confusion matrix for testing\n",
            " [[  0  19]\n",
            " [  0 231]]\n",
            "\n",
            "logistic regression training score:  0.8946666666666667\n",
            "logistic regression test score:  0.924\n",
            "accuracy: 0.924\n",
            "precision: 0.8537760000000001\n",
            "recall: 0.924\n",
            "f1 score: 0.8875010395010396\n"
          ]
        },
        {
          "output_type": "stream",
          "name": "stderr",
          "text": [
            "/usr/local/lib/python3.8/dist-packages/sklearn/metrics/_classification.py:1318: UndefinedMetricWarning: Precision is ill-defined and being set to 0.0 in labels with no predicted samples. Use `zero_division` parameter to control this behavior.\n",
            "  _warn_prf(average, modifier, msg_start, len(result))\n"
          ]
        }
      ],
      "source": [
        "# tfidf\n",
        "TDidf_vec = TfidfVectorizer(ngram_range = (2, 2), token_pattern=r'\\b[a-zA-Z]{3,}\\b')\n",
        "corpus = list(disney[\"lemma_reviews\"].values)  # using a sample instead of entire dataset\n",
        "X_t = TDidf_vec.fit_transform(corpus)\n",
        "terms = TDidf_vec.get_feature_names_out()\n",
        "tf_idf = pd.DataFrame(X_t.toarray(), columns = terms)\n",
        "\n",
        "corpus = list(disney[\"lemma_reviews\"].values)\n",
        "X_t = TDidf_vec.fit_transform(corpus)\n",
        "\n",
        "X_t_train, X_t_test, y_t_train, y_t_test = train_test_split(X_t, y, random_state = 0)\n",
        "\n",
        "logistic_regression_t = LogisticRegression(max_iter=10000)\n",
        "logistic_regression_t.fit(X_t_train, y_t_train)\n",
        "training_predictions_t = logistic_regression_t.predict(X_t_train)\n",
        "test_predictions_t = logistic_regression_t.predict(X_t_test)\n",
        "y_t_probabilities = logistic_regression_t.predict_proba(X_t_test)\n",
        "\n",
        "print('model prediction for first 5 docs in training: \\n', training_predictions_t[:5])\n",
        "print('\\nconfusion matrix for training\\n', confusion_matrix(y_t_train, training_predictions_t))\n",
        "print('confusion matrix for testing\\n', confusion_matrix(y_t_test, test_predictions_t))\n",
        "print('\\nlogistic regression training score: ', logistic_regression_t.score(X_t_train, y_t_train))\n",
        "print('logistic regression test score: ', logistic_regression_t.score(X_t_test, y_t_test))\n",
        "print('accuracy:', sklearn.metrics.accuracy_score(y_t_test, test_predictions_t, normalize=True, sample_weight=None))\n",
        "print('precision:', sklearn.metrics.precision_score(y_t_test, test_predictions_t, labels=None, pos_label = 1, average='weighted', sample_weight=None, zero_division='warn'))\n",
        "print('recall:', sklearn.metrics.recall_score(y_t_test, test_predictions_t, labels=None, pos_label = 1, average='weighted', sample_weight=None, zero_division='warn'))\n",
        "print('f1 score:', f1_score(y_t_test, test_predictions_t, labels=None, pos_label=1, average='weighted', sample_weight=None, zero_division='warn'))"
      ]
    },
    {
      "cell_type": "code",
      "execution_count": null,
      "metadata": {
        "colab": {
          "base_uri": "https://localhost:8080/"
        },
        "id": "Vh3SV-Pe0kG2",
        "outputId": "b15a6d23-d871-4c56-d8e3-f076814e9191"
      },
      "outputs": [
        {
          "output_type": "stream",
          "name": "stdout",
          "text": [
            "model prediction for first 5 docs in training: \n",
            " ['POSITIVE' 'POSITIVE' 'POSITIVE' 'POSITIVE' 'POSITIVE']\n",
            "\n",
            "confusion matrix for training\n",
            " [[  1  78]\n",
            " [  0 671]]\n",
            "confusion matrix for testing\n",
            " [[  0  19]\n",
            " [  0 231]]\n",
            "\n",
            "logistic regression training score:  0.896\n",
            "logistic regression testing score:  0.924\n",
            "accuracy: 0.924\n",
            "precision: 0.8537760000000001\n",
            "recall: 0.924\n",
            "f1 score: 0.8875010395010396\n"
          ]
        },
        {
          "output_type": "stream",
          "name": "stderr",
          "text": [
            "/usr/local/lib/python3.8/dist-packages/sklearn/metrics/_classification.py:1318: UndefinedMetricWarning: Precision is ill-defined and being set to 0.0 in labels with no predicted samples. Use `zero_division` parameter to control this behavior.\n",
            "  _warn_prf(average, modifier, msg_start, len(result))\n"
          ]
        }
      ],
      "source": [
        "# word2vec\n",
        "def word2_vec(processed_text):\n",
        "    return np.array(nlp(processed_text).vector)\n",
        "\n",
        "disney[\"vectors\"] = disney.lemma_reviews.apply(word2_vec)\n",
        "\n",
        "X_w = np.array([vector for vector in disney[\"vectors\"]])\n",
        "y = disney[\"rating_sentiment\"]\n",
        "\n",
        "X_w_train, X_w_test, y_w_train, y_w_test = train_test_split(X_w, y, random_state = 0)\n",
        "\n",
        "logistic_regression_w = LogisticRegression(max_iter=10000)\n",
        "logistic_regression_w.fit(X_w_train, y_w_train)\n",
        "training_predictions_w = logistic_regression_w.predict(X_w_train)\n",
        "y_w_probabilities = logistic_regression_w.predict_proba(X_w_test)\n",
        "test_predictions_w = logistic_regression_w.predict(X_w_test)\n",
        "\n",
        "print('model prediction for first 5 docs in training: \\n', training_predictions_w[:5])\n",
        "print('\\nconfusion matrix for training\\n', confusion_matrix(y_w_train, training_predictions_w))\n",
        "print('confusion matrix for testing\\n', confusion_matrix(y_w_test, test_predictions_w))\n",
        "print('\\nlogistic regression training score: ', logistic_regression_w.score(X_w_train, y_w_train))\n",
        "print('logistic regression testing score: ', logistic_regression_w.score(X_w_test, y_w_test))\n",
        "\n",
        "# https://scikit-learn.org/stable/modules/generated/sklearn.metrics.f1_score.html \n",
        "# https://scikit-learn.org/stable/modules/generated/sklearn.metrics.accuracy_score.html\n",
        "# https://scikit-learn.org/stable/modules/generated/sklearn.metrics.precision_score.html\n",
        "# https://scikit-learn.org/stable/modules/generated/sklearn.metrics.recall_score.html\n",
        "\n",
        "print('accuracy:', sklearn.metrics.accuracy_score(y_w_test, test_predictions_w, normalize=True, sample_weight=None))\n",
        "print('precision:', sklearn.metrics.precision_score(y_w_test, test_predictions_w, labels=None, pos_label = 1, average='weighted', sample_weight=None, zero_division='warn'))\n",
        "print('recall:', sklearn.metrics.recall_score(y_w_test, test_predictions_w, labels=None, pos_label = 1, average='weighted', sample_weight=None, zero_division='warn'))\n",
        "print('f1 score:', f1_score(y_w_test, test_predictions_w, labels=None, pos_label=1, average='weighted', sample_weight=None, zero_division='warn'))"
      ]
    },
    {
      "cell_type": "markdown",
      "source": [
        "Our team acknowleges that the accuracy, precision, recall, and F1 scores were the same among the Word2Vec, Count Vectorizer, and TFIDF logistic regression models. There is a class imbalance problem that we were unable to solve due as we needed to sample to a small sample size of 500 in order for the code to run without crashing. "
      ],
      "metadata": {
        "id": "hmxKWHqdFtUd"
      }
    },
    {
      "cell_type": "markdown",
      "metadata": {
        "id": "S6iIHSJ6vpFa"
      },
      "source": [
        "#### Creating Subsets of Data to Conduct Topic Modeling"
      ]
    },
    {
      "cell_type": "code",
      "execution_count": null,
      "metadata": {
        "id": "fc7nIogZ740n"
      },
      "outputs": [],
      "source": [
        "# segmenting based on positive and negative reviews\n",
        "disney_pos = disney[disney['rating_sentiment'] == 'POSITIVE']\n",
        "disney_neg = disney[disney['rating_sentiment'] == 'NEGATIVE']"
      ]
    },
    {
      "cell_type": "code",
      "execution_count": null,
      "metadata": {
        "colab": {
          "base_uri": "https://localhost:8080/"
        },
        "id": "kkEXfZ1lnRy7",
        "outputId": "d1b7b8d0-3a79-433d-ef5b-f778c6e3e49b"
      },
      "outputs": [
        {
          "output_type": "stream",
          "name": "stderr",
          "text": [
            "<ipython-input-42-062b002534d4>:1: UserWarning: Boolean Series key will be reindexed to match DataFrame index.\n",
            "  disney_pos_CA = disney_pos[disney['Branch'] == 'California']\n",
            "<ipython-input-42-062b002534d4>:2: UserWarning: Boolean Series key will be reindexed to match DataFrame index.\n",
            "  disney_pos_HK = disney_pos[disney['Branch'] == 'HongKong']\n",
            "<ipython-input-42-062b002534d4>:3: UserWarning: Boolean Series key will be reindexed to match DataFrame index.\n",
            "  disney_pos_PAR = disney_pos[disney['Branch'] == 'Paris']\n",
            "<ipython-input-42-062b002534d4>:5: UserWarning: Boolean Series key will be reindexed to match DataFrame index.\n",
            "  disney_neg_CA = disney_neg[disney['Branch'] == 'California']\n",
            "<ipython-input-42-062b002534d4>:6: UserWarning: Boolean Series key will be reindexed to match DataFrame index.\n",
            "  disney_neg_HK = disney_neg[disney['Branch'] == 'HongKong']\n",
            "<ipython-input-42-062b002534d4>:7: UserWarning: Boolean Series key will be reindexed to match DataFrame index.\n",
            "  disney_neg_PAR = disney_neg[disney['Branch'] == 'Paris']\n"
          ]
        }
      ],
      "source": [
        "# segmenting positive reviews into the three branches\n",
        "disney_pos_CA = disney_pos[disney['Branch'] == 'California']\n",
        "disney_pos_HK = disney_pos[disney['Branch'] == 'HongKong']\n",
        "disney_pos_PAR = disney_pos[disney['Branch'] == 'Paris']\n",
        "\n",
        "# segmenting the negative locations into three branches\n",
        "disney_neg_CA = disney_neg[disney['Branch'] == 'California']\n",
        "disney_neg_HK = disney_neg[disney['Branch'] == 'HongKong']\n",
        "disney_neg_PAR = disney_neg[disney['Branch'] == 'Paris']"
      ]
    },
    {
      "cell_type": "markdown",
      "metadata": {
        "id": "jT9r7FQJyoJ1"
      },
      "source": [
        "#### Topic Modelling with TFIDF Vectors"
      ]
    },
    {
      "cell_type": "code",
      "execution_count": null,
      "metadata": {
        "id": "6Z2cGsWfpHkY"
      },
      "outputs": [],
      "source": [
        "# function for getting top tokens\n",
        "def get_top_tf_idf_tokens_for_topic(H: np.array, feature_names: List[str], num_top_tokens: int = 5):\n",
        "  \"\"\"\n",
        "  Uses the H matrix (K components x M original features) to identify for each\n",
        "  topic the most frequent tokens.\n",
        "  \"\"\"\n",
        "  for topic, vector in enumerate(H):\n",
        "    print(f\"TOPIC {topic}\\n\")\n",
        "    total = vector.sum()\n",
        "    top_scores = vector.argsort()[::-1][:num_top_tokens]\n",
        "    token_names = list(map(lambda idx: feature_names[idx], top_scores))\n",
        "    strengths = list(map(lambda idx: vector[idx] / total, top_scores))\n",
        "    \n",
        "    for strength, token_name in zip(strengths, token_names):\n",
        "      print(f\"\\b{token_name} ({round(strength * 100, 1)}%)\\n\")\n",
        "    print(f\"=\" * 50)\n",
        "\n",
        "# function for getting top documents for each token \n",
        "def get_top_documents_for_each_topic(W: np.array, documents: List[str], num_docs: int = 5):\n",
        "  sorted_docs = W.argsort(axis=0)[::-1]\n",
        "  top_docs = sorted_docs[:num_docs].T\n",
        "  per_document_totals = W.sum(axis=1)\n",
        "  for topic, top_documents_for_topic in enumerate(top_docs):\n",
        "    print(f\"Topic {topic}\")\n",
        "    for doc in top_documents_for_topic:\n",
        "      score = W[doc][topic]\n",
        "      percent_about_topic = round(score / per_document_totals[doc] * 100, 1)\n",
        "      print(f\"{percent_about_topic}%\", documents[doc])\n",
        "    print(\"=\" * 50)"
      ]
    },
    {
      "cell_type": "code",
      "execution_count": null,
      "metadata": {
        "id": "vf-_jugdhTIG"
      },
      "outputs": [],
      "source": [
        "vectorizer = TfidfVectorizer(ngram_range=(2,2), stop_words=\"english\")\n",
        "nmf = NMF(n_components=3)"
      ]
    },
    {
      "cell_type": "markdown",
      "metadata": {
        "id": "x4yVibLRwhAs"
      },
      "source": [
        "##### POSITIVE REVIEWS"
      ]
    },
    {
      "cell_type": "code",
      "execution_count": null,
      "metadata": {
        "id": "vM1Kc2fxhe1N",
        "colab": {
          "base_uri": "https://localhost:8080/"
        },
        "outputId": "4118db89-e84c-4764-e72e-aa2dddd88ded"
      },
      "outputs": [
        {
          "output_type": "stream",
          "name": "stderr",
          "text": [
            "/usr/local/lib/python3.8/dist-packages/sklearn/decomposition/_nmf.py:289: FutureWarning: The 'init' value, when 'init=None' and n_components is less than n_samples and n_features, will be changed from 'nndsvd' to 'nndsvda' in 1.1 (renaming of 0.26).\n",
            "  warnings.warn(\n"
          ]
        },
        {
          "output_type": "stream",
          "name": "stdout",
          "text": [
            "topic modeling: \n",
            "TOPIC 0\n",
            "\n",
            "\bfast pass (0.8%)\n",
            "\n",
            "\bgreat time (0.3%)\n",
            "\n",
            "\bcalifornia adventure (0.3%)\n",
            "\n",
            "\bday disney (0.3%)\n",
            "\n",
            "\bspend day (0.2%)\n",
            "\n",
            "==================================================\n",
            "TOPIC 1\n",
            "\n",
            "\bplace earth (2.0%)\n",
            "\n",
            "\bhappy place (1.8%)\n",
            "\n",
            "\bvisitor spend (0.6%)\n",
            "\n",
            "\bsay happy (0.4%)\n",
            "\n",
            "\bgood place (0.4%)\n",
            "\n",
            "==================================================\n",
            "TOPIC 2\n",
            "\n",
            "\blove disney (0.7%)\n",
            "\n",
            "\bvisit disney (0.6%)\n",
            "\n",
            "\bvisitor visitor (0.5%)\n",
            "\n",
            "\bgreat visitor (0.4%)\n",
            "\n",
            "\bride ride (0.3%)\n",
            "\n",
            "==================================================\n",
            "top documents: \n",
            "Topic 0\n",
            "100.0% I take my VISITOR to Disney in late july and it be everything we could have imagine and more    we buy the 3 day park hopper which be just about enough time to visit everything Disney    california adventure have to offer   I think next time I will get the 4 day but 3 day be about enough   it be certainly 3 fun fill day   especially for my VISITOR   yes it be crowd but that s to be expect   you will still have enough time to pretty much see everything with the 3 day park hopper   the fast pass be cool because for example splash_mtn have a wait time of 60 minute so we get a fast pass and it tell you when to return   ours say to return between 11 10 12 10   while you be wait for the time frame to ride splash_mtn   you can venture and ride other attraction such as the_haunted_mansion   the_haunted_mansion s line always look long but it move rather quickly   so we ride it then go back and enter the splash_mtn fast pass entrance and ride the ride in under 5 minute   so the fast pass do have it s advantage   use the fast pass where the line be typically the long and while you be wait for your time   do other thing   ride other attraction in the immediate area   another example   I get the fast pass for space_mtn   and while wait for our time slot   we ride BUZZ_LIGHTYEAR lightyear astro blaster 2x   Disney be awesome and we will definitely return\n",
            "100.0% our VISITOR go to Disney for the first time   we spend two day at Disney and california adventure park on park hopper   we get some fast pass to some of the most popular ride and it help   it be truly a magical place   walt disney be really a visionary and the park be a testament to his amazing vision   we have a great time at both park and we do not mind get tired and wait on some of the line   we plan on go back as we only see part of the park even though we we be there two day   magical\n",
            "100.0% too long a wait for some attraction   get fast pass for popular ride especially the   racer   in california adventure\n",
            "100.0% two key ride be not function properly on the morning of our visit on 6 15 15   indy and big thunder    so we actually lose two hour that hot afternoon try to bring complementary digital fast pass to car land   after stand in the long fast pass entry line at racer   after the long fast pass line at indy    we discover that each of our three complementary fast pass be not properly add to the admission ticket from the close down indy ride   so we lose six fast pass and all that time and energy     not to mention public embarrassment at explain the situation to the ticket handler but still be deny entry as a visitor   all this so soon after we be just step away from the indy ride and lose those fast pass when the ride shut down   what be we to do   nothing in the park literature explain what happen when legitimate fast pass don t work with VISITOR morale low   I somehow remember that an information station be set up at the start of car land   so I decide I would at least let someone know how let down we be by fast pass   for our trouble   we be give another two fast pass    per person    to use at anytime that same day for any of the ride in both park   wow   kind disney staff hear we   and help   and luck look our way again when big thunder reopen just as we be walk by later on    so hardly a wait there   if anything go wrong while you    re at the park    just consult the info station\n",
            "100.0% the park be wonderful   be everything I imagine to be and more   can t really say a bad thing about it so I ll focus on some quick tip for the first time visitor as I 1   buy your ticket online or in advance   there be long queue to buy they and to enter the park 2   arrive early   see   1 3   use the fast pass option when applicable   use your ticket to go to a fast pass booth   it will tell you the time when you be able to go to your ride and skip wait in line long hour 4   the Disney app contain a lot of info   not only it might allow you to get fast pass ticket   also will tell you in real time which ride be temporarily close or under maintenance enjoy\n",
            "==================================================\n",
            "Topic 1\n",
            "100.0% if you have be to disney   I need say no more   for I it be the happy place on earth   I transform into a child when I pass through the gate   in four day my VISITOR and I spend 55 hour in the park   crazy   not so   and I m an old lady\n",
            "100.0% it be the happy place on earth but only when your VISITOR be well rest    so stay nearby so the small one can take a nap after walk around the park in the morning and you can all have fun in the evening\n",
            "100.0% it    s disney   of course it    s go to be great     even the bad experience we have with ride break down be more than put right by guest relation   a magical time at the happy place on earth\n",
            "100.0% it be huge and most definitely the happy place on earth lol the customer service be especially fantastic something the people in the southern hemispher lack in  \n",
            "100.0% even as a cynical academic I find the happy place on earth great fun   it be also very interesting as a place to people watch    although this be difficult to do when you have to keep your eye on a 4 and a VISITOR  \n",
            "==================================================\n",
            "Topic 2\n",
            "100.0% my VISITOR    I visit Disney with our VISITOR VISITOR    our teenage VISITOR in august   we have a fun day and ride many of the ride   it be much cool and the line be much short than when we visit Disney in florida during the summer   would definitely return\n",
            "100.0% my VISITOR and my first and only visit to Disney be 16 year ago   we just get back from take our VISITOR VISITOR for his first visit   wow   I have be look forward to this day since the visitorent I find out I be pregnant   I just love Disney so much the one time I have be   I couldn t wait to share it with my VISITOR s someday   want to wait until he be tall enough to ride the ride   and old enough to remember this trip   we finally save up   and have a little bit of help   for a VISITOR vacation to Disney   it be just as amazing as I d remember it to be   my VISITOR   VISITOR   and I all have so much fun   yes the line be long   but if you pack your patience   it s not so bad   if you get an early start on your day and get right to the more popular ride and attraction early   the line aren t so bad   another option   wait until night   the line be pretty short during the firework and toward the end of the day   if you don t mind ride the ride in the dark   we spend about 32 hour in the park   over 3 day and still didn t ride every ride   grant   we didn t necessarily want to ride all of the ride    and we ride a few of our favorite more than once   yeah   it s expensive   yeah   it s crowd   but there be so many great ride   shop   and food choice   you get to see people of all age and background share a common love for disney   there be amazing parade and firework   what s not to love   I just hope it s not another 16 year before we can go back\n",
            "100.0% my VISITOR and I have visit Disney 3 time in the past few year with the late visit be august 2006   each time it just get more wonderful   my 2 VISITOR enjoy themselves so much each time that they be never ready to come home   I have find each time that the ground be well keep   and the cast member be all very helpful and knowledgeable   the bathroom be usually clean and well keep   the ride be great   my VISITOR really love the GRIZZLY_RIVER_RUN in dca   thing   especially food   be quite pricey   but it s Disney   so what else can you expect   my VISITOR    I really love to see the VISITOR have a great time when we visit disney   just go and you win t be disappoint   we be plan another trip soon   can t wait  \n",
            "100.0% how can you not love Disney                                 great for VISITOR   extremely clean   great ride   plenty of food option   this have be the 29 year I have be come to park\n",
            "100.0% the only thing I didn t like be how crowd it get   other than that   everyone that work there be so great   the ride be all great   my VISITOR   VISITOR   and I have a blast and can t wait to go again   there s so much to see and do here   we love it\n",
            "==================================================\n"
          ]
        }
      ],
      "source": [
        "# topic modeling for CA positive reviews\n",
        "X_reviews_pos_CA, reviews_pos_CA_terms = vectorizer.fit_transform(disney_pos_CA.lemma_reviews), vectorizer.get_feature_names_out()\n",
        "reviews_pos_CA_tf_idf = pd.DataFrame(X_reviews_pos_CA.toarray(), columns = reviews_pos_CA_terms)\n",
        "\n",
        "W_reviews_pos_CA = nmf.fit_transform(X_reviews_pos_CA)\n",
        "H_reviews_pos_CA = nmf.components_\n",
        "\n",
        "print('topic modeling: ')\n",
        "get_top_tf_idf_tokens_for_topic(H_reviews_pos_CA, reviews_pos_CA_tf_idf.columns.tolist(), 5)\n",
        "\n",
        "print('top documents: ')\n",
        "get_top_documents_for_each_topic(W_reviews_pos_CA, disney_pos_CA.lemma_reviews.tolist())"
      ]
    },
    {
      "cell_type": "code",
      "execution_count": null,
      "metadata": {
        "id": "6uanB8MtxMhS",
        "colab": {
          "base_uri": "https://localhost:8080/"
        },
        "outputId": "00c0256c-b30f-419a-8508-69ae144f026d"
      },
      "outputs": [
        {
          "output_type": "stream",
          "name": "stderr",
          "text": [
            "/usr/local/lib/python3.8/dist-packages/sklearn/decomposition/_nmf.py:289: FutureWarning: The 'init' value, when 'init=None' and n_components is less than n_samples and n_features, will be changed from 'nndsvd' to 'nndsvda' in 1.1 (renaming of 0.26).\n",
            "  warnings.warn(\n"
          ]
        },
        {
          "output_type": "stream",
          "name": "stdout",
          "text": [
            "topic modeling: \n",
            "TOPIC 0\n",
            "\n",
            "\bhongkong disney (1.3%)\n",
            "\n",
            "\bvisit hongkong (0.6%)\n",
            "\n",
            "\btheme park (0.5%)\n",
            "\n",
            "\bdisney small (0.4%)\n",
            "\n",
            "\bhappy place (0.3%)\n",
            "\n",
            "==================================================\n",
            "TOPIC 1\n",
            "\n",
            "\bdisney park (1.1%)\n",
            "\n",
            "\bsmall disney (0.5%)\n",
            "\n",
            "\bdisney hongkong (0.4%)\n",
            "\n",
            "\bdisney easy (0.3%)\n",
            "\n",
            "\breally good (0.2%)\n",
            "\n",
            "==================================================\n",
            "TOPIC 2\n",
            "\n",
            "\bvisitor enjoy (0.4%)\n",
            "\n",
            "\bwait time (0.4%)\n",
            "\n",
            "\bvisitor love (0.3%)\n",
            "\n",
            "\bday pass (0.3%)\n",
            "\n",
            "\bride great (0.3%)\n",
            "\n",
            "==================================================\n",
            "top documents: \n",
            "Topic 0\n",
            "98.3% I always love to visit this place at anytime and repeatedly watch show and the firework display at end    each time I have VISITOR or VISITOR visit HongKong   Disney not to be miss    \n",
            "100.0% visit HongKong Disney last august 2014 and it be a dream come true   I love everything about the place   really a worth it experience     stay until the firework cause it really a spectacular to watch   no firework display here in the philippine can compare to what Disney firework show offer   one thing I do not like during our visit be the weather     it be really hot   good month to travel HongKong Disney be during november to january   it will not be that hot   plan to visit again next time   \n",
            "100.0% be visit lantau to see the big buddha   and then plan to visit HongKong disney in the late afternoon   having do HongKong disney before I be well aware that it didn t require a whole day   Disney here have really improve since my first visit   I be actually quite impressed with the new addition to the park   it appear that there be plenty of space for expansion so think there will be more to do in time   the only downside to this theme park be that it be rather pricey    especially consider its size and if you be to ocean park it s poor value for money will more then likely go again and for any disney fan it s a must\n",
            "93.4% the only other Disney I ve be to be tokyo many year ago but I definitely remember it be big than the HongKong Disney   HongKong Disney be small   the cinderella castle be super small so that kind of make the rest seem small too   but have a few fun ride like the roller coaster at grizzly gulch and also space_mtn   the rest be very tame and mostly visual   ie   the it s a small world ride and the mystic manor ride   they be a refreshing and cute break from the heat though   the food be pretty terrible I think    and for exorbitant price    but I guess that s expect for a theme park because they know you can t go anywhere else   all in all we have a lot of fun tho   we make a day out of it since I be there on a short work trip and have an extra day   I want to buy everything in the shop too   everything be super cute\n",
            "97.0% visit HongKong Disney with the entire VISITOR   and we actually spend two day of our HongKong trip in Disney alone   lot of fun ride and attraction   plus photo op with mickey mouse and VISITOR   if I be to describe this place in one word   it would be   magical   \n",
            "==================================================\n",
            "Topic 1\n",
            "100.0% as a whole it would be hard to say that Disney HongKong be the good disney park of they all   I m not say that this park isn t fun   it s just a little bit fractured compare to other disney park   the land while they exist aren t as harmonious as you might find at other park   the difference at this park be the quality of some of their attraction   mystic manor be probably one of the good disney ride ever build   grizzly gulch mine train be one of the good roller coaster on any disney property   good of all each one of these attraction be surround by a well themed land the new iron man attraction be ok   but nothing worth the trip alone   the food at this park be hit or miss   depend on where you eat   this could be a one day visit   or a two day visit if you re really into disney park\n",
            "97.9% what an experience    we so much enjoy HongKong Disney   the park be well organised and clean   the staff at the park we really good and make the right impression for you to have the time of your life   our VISITOR be in a magical dream   the critic have make comment that park be small and not enough to do    well I disagree   I have be to the florida and california disney park and they be too big   when you have small VISITOR then this park be perfect   enjoy                     \n",
            "91.8% we have be to Disney in anaheim   Disney   and Paris Disney   we always find the park to be a fun day trip   first off   HongKong Disney be a small park compare to the other   it s a park that you can feel accomplished at in only one day   we be able to ride attraction multiple time even though the park seem pack   the park have many of the classic   winnie the pooh   tea cups   railroad   cinderella carousel   SPACE_MTN and the jungle river cruise   big grizzly mountain be close during our visit   which be unfortunate as I like thrill ride   the good    and I mean the good attraction at Disney HongKong be mystic manor   we ride it 6 time throughout the day   despite the park be busy   we never wait long than 10 minute in line   this ride be a must   although not my favourite disney park   it s a good visit   you should have plenty of time to do and see everything you want in one day  \n",
            "100.0% Disney HongKong be small than LosAngeles and Disney park in florida but it make for an enjoyable day the mtr train    which take you right to Disney    be easy   fast and affordable the only complaint from my VISITOR be that there be no donut        \n",
            "100.0% yes it s small than the other disney park but queue time be the short   go on a weekday and the long queue be 10 minute   only complaint be that it open late and close early   some restaurant don t accept new customer by 7 pm\n",
            "==================================================\n",
            "Topic 2\n",
            "100.0% a magical place for VISITOR   visit in december but perhaps it s not the ideal time as the weather be challenge   be cold and rain as well   good time be bet oct or nov   I also suggest to take the disney train go to Disney rather than the bus   VISITOR will enjoy it   book your ticket online to avoid a long que and waste time   well to go early so you would have enough time for the ride and visit the entire place   it s huge   1 day would not be enough so if you can afford to stay at Disney hotel stay there for one day so u wouldn t rush to go back to your hotel\n",
            "100.0% never be to Disney in LosAngeles but presume the same   some awesome ride   great show and lot for VISITOR to do   love the disney train that take you out to Disney\n",
            "98.8% my VISITOR and VISITOR girl love it very bit   the idea be to let they see the character and hopefully make they beleive in the fantasy they create   Disney do that    more       in style the evening firework be spectacularthe villain parade and mickey mouse parade funtastic the ride be so cute that my young one want to keep do they   it be indeed magical for the VISITOR and the glee on their face be worth every minute   nickel spend   we take the 2 day pass   do the evening parade and firework on day 1 and spend the entire next day on the ride for VISITOR   none of the ride be scary   the slow one be where the VISITOR enjoy anyway     the boat ride be nice with a lot of animatronic which thrill the VISITOR   the show be VISITOR final tip    go during the weekday and if it s a VISITOR centric holiday take the 2 day pass and expect to get a bit bored since adult ride be few and far   the happy VISITORie face will however replace the boredom you face must visit for VISITOR of all age\n",
            "100.0% not a very big park but will suffice if there be time to go for a visit   hear that start 2018 there will be no more fire work during night time   always a good place for VISITOR and as usual in every park   wait time for ride might take a long time\n",
            "100.0% we have a wonderful day at Disney   this be our first disney experience so can not offer any comparison the attention to detail in and on the way to the park be fantastic   the staff be all VISITORly and the sticker they give the VISITOR be a lovely touch   we be very impressed with the show   especially the lion king and the paint the night parade be excellent   our VISITOR love meet the star war character   we spend a full day there and do most of what we want to   another half day would have mean we cover everything\n",
            "==================================================\n"
          ]
        },
        {
          "output_type": "stream",
          "name": "stderr",
          "text": [
            "/usr/local/lib/python3.8/dist-packages/sklearn/decomposition/_nmf.py:1637: ConvergenceWarning: Maximum number of iterations 200 reached. Increase it to improve convergence.\n",
            "  warnings.warn(\n"
          ]
        }
      ],
      "source": [
        "# topic modeling for positive Hong Kong reviews\n",
        "X_reviews_pos_HK, reviews_pos_HK_terms = vectorizer.fit_transform(disney_pos_HK.lemma_reviews), vectorizer.get_feature_names_out()\n",
        "reviews_pos_HK_tf_idf = pd.DataFrame(X_reviews_pos_HK.toarray(), columns = reviews_pos_HK_terms)\n",
        "\n",
        "W_reviews_pos_HK = nmf.fit_transform(X_reviews_pos_HK)\n",
        "H_reviews_pos_HK = nmf.components_\n",
        "\n",
        "print('topic modeling: ')\n",
        "get_top_tf_idf_tokens_for_topic(H_reviews_pos_HK, reviews_pos_HK_tf_idf.columns.tolist(), 5)\n",
        "\n",
        "print('top documents: ')\n",
        "get_top_documents_for_each_topic(W_reviews_pos_HK, disney_pos_HK.lemma_reviews.tolist())"
      ]
    },
    {
      "cell_type": "code",
      "execution_count": null,
      "metadata": {
        "colab": {
          "base_uri": "https://localhost:8080/"
        },
        "id": "hor4mlvUxZD3",
        "outputId": "ed93ca18-c373-476e-fa9e-65e10f5286ab"
      },
      "outputs": [
        {
          "output_type": "stream",
          "name": "stderr",
          "text": [
            "/usr/local/lib/python3.8/dist-packages/sklearn/decomposition/_nmf.py:289: FutureWarning: The 'init' value, when 'init=None' and n_components is less than n_samples and n_features, will be changed from 'nndsvd' to 'nndsvda' in 1.1 (renaming of 0.26).\n",
            "  warnings.warn(\n"
          ]
        },
        {
          "output_type": "stream",
          "name": "stdout",
          "text": [
            "topic modeling: \n",
            "TOPIC 0\n",
            "\n",
            "\bdisney paris (0.3%)\n",
            "\n",
            "\bdisney hotel (0.2%)\n",
            "\n",
            "\byoung visitor (0.2%)\n",
            "\n",
            "\bvisitor love (0.2%)\n",
            "\n",
            "\bvisitor visitor (0.2%)\n",
            "\n",
            "==================================================\n",
            "TOPIC 1\n",
            "\n",
            "\bdisney park (2.0%)\n",
            "\n",
            "\btime disney (0.4%)\n",
            "\n",
            "\bpark disney (0.4%)\n",
            "\n",
            "\bpark world (0.3%)\n",
            "\n",
            "\bbig disappointment (0.3%)\n",
            "\n",
            "==================================================\n",
            "TOPIC 2\n",
            "\n",
            "\bfast pass (1.6%)\n",
            "\n",
            "\buse fast (0.4%)\n",
            "\n",
            "\bpass time (0.4%)\n",
            "\n",
            "\bpass ticket (0.3%)\n",
            "\n",
            "\benjoy ride (0.3%)\n",
            "\n",
            "==================================================\n",
            "top documents: \n",
            "Topic 0\n",
            "58.3% Disney be the most magical place in the world   there be 7 disney hotel all with different theme   the hotel be all excellent and the name of they be   in order of quality   1   Disney hotel   standard room   VISITOR room   castle club room and suit 2   disney s hotel new york   standard room   empire state club room and suit 3   disney s newport bay club   standard room   admiral s floor room   admiral s floor VISITOR room and suit 4   disney s sequoia lodge   standard room   montana room   golden forest club room and honeymoon suite 5   disney s hotel cheyenne   standard room   rio grande room and buffalo room 6   disney s hotel santa fe   standard room   rio grande room   eldorado room and VISITOR room 7   disney s davy crockett ranch   2 bedroom cabin   premium 2 bedroom cabin   premium plus 2 bedroom cabin   most club room and suite also have vip fastpass which be unlimited but good to ask which hotel provide this service they be all locate within 20 minute walk and all have bus for guest to use   free of charge   to take they to the park   apart from the davy crockett ranch which be a 15 minute car journey   there be many advantage of stay at a disney hotel   the first be that your park ticket be include in the price of your hotel   secondly   you be locate very close to both park so all hotel be easily accessible for all age   also   every day one of the park have extra magic hour   this be where   depend on the opening hour of the park   you as disney hotel guest can have up to 2 extra hour in the park   either in the morning or evening   there be 2 different park at Disney Paris 1   Disney park   this be the main park and have different land    main street usa   fantasyland   discoveryland   frontierland and adventureland    if you have young VISITOR then fantasyland be the place to be with peter pan s flight   snow white   mad hatter tea cup and many more ride they will just love it   plus you can meet character include mickey mouse and the princess   there be also ride for young VISITOR in the other land   for old VISITOR and adult there be ride in all land   my favourite ride in Disney park be pirates_of_the_caribbean   indiana_jones and the a TEMPLE_OF_PERIL and autopia 2   walt disney studio   this park have expand an astonishing amount in the past 18 year   there be many new up to date ride include   ratatouille   toy story land and crush s coaster   if you want to go on crush s coaster then I suggest to you that you get to the park 1 hour before it open and then as soon as the gate open and you put your ticket into the machine then run   I m not joke the queue can get up to 2 hour long within 30 minute of the park opening   it be well worth the early wake up and morning run       during the day there be 2 different parade in both park   the studio parade be normally around 2 pm and the Disney park parade be around 5 00 5 30pm   on certain ride there be a fast pass part   this mean that you can collect a ticket   which have a time print on it and you can skip the queue no matter how long it be   check the map of the park to see which ride have fast pass all day there be food available throughout both park   there be many restaurant around both park but there be also disney village   this be the place to go in the evening for food and especially entertainment   there be also activity to do such as boat on the lake   balloon ride and ice skating   if you be to go into disney village during the day then you will want to go into world of disney which be one of the big disney store in the world   there be also other shop to go into with all the shop throughout the disney estate   if you be stay in a disney hotel   then you can get your shopping deliver to your hotel so if you buy something early in the day   your don t have to carry your purchase with you all day   overall I love disney and yes it be expensive but you and your VISITOR will not regret it   \n",
            "100.0% I have visit Disney Paris and both park in the us and no matter which disney it be the magic be the same   over the last 25 year Disney Paris have get well and well   this time I be there for 4 day with the VISITOR   three day be probably just the right amount of time to do the two park   but the extra day be great as a favourite day to do all the good bit   top tips1   if you can take advantage of magic hour make sure you do   there be a mass wave of people that move up main street when the park open to the public   this be when the queue double in size 2   for the parade get a good spot to view and set up early   especially if you have VISITOR   if you leave it too late you will have a restricted view 3   for the firework   they be amazing   get a spot about 1 5    2 hrs before they start   take a couple of picnic blanket to sit on as the floor be pretty uncomfortable otherwise\n",
            "100.0% I really enjoy my first trip to Disney Paris so much that I go back a further 4 time so far    the toilet be young VISITOR VISITORly with sink that be nice and low for young VISITOR etc   plenty of attraction for all age   and the staff be very VISITORly   plenty of eatery and souvenir shop   you will want for nothing but more money to spend haha   VISITOR will love it\n",
            "97.1% our first time in Disney Paris be amazing have a great time with VISITOR age 14 9 6 4   great park lot to do go for 3 day should have stay for 4 or 5   ride be great craic and all the cast member be extremely VISITORly and helpful or VISITOR have a wheelchair and she be treat like royalty by your cast member   overall a great experience can not wait to go back      \n",
            "100.0% we go to Disney Paris 31 march to 3 april   two adult   VISITOR and VISITOR the positive   very clean   we be there mid week and we queue on average 10 min but during extra magic hour   disney hotel guest allow into park 2 hour before general public   there be lot of ride where we do not que at all   magical surrounding   clean   spacious room at sequioa lodge   only few min walk away from disney village   the train journey to Paris be very simple   35 min for some culture   the look on the VISITOR face when they meet character be priceless   plenty to see and do for visitor the negative   public area very busy   get a photo with character be a bit of a scrum   the same ride be open each morning during extra magic hour   variety would have be well   expensive food   VISITOR meal tend to come without veg   not the healthy week we ve ever have   definitly worth a visit if you have young VISITOR but be research and plan your trip carefully   book a table at cafe mickey for a relaxed way of get photo with the character\n",
            "==================================================\n",
            "Topic 1\n",
            "100.0% smoking be allow    a big disappointment if you be not a smoker    classic Disney park    if you have see other Disney park in other part of the world this one be very very similar\n",
            "95.2% this be my second visit to Disney park at Disney Paris   and it still be the ugly stepchild to the american park   the park be in decent shape but require some upkeep   paint   maintenance   etc   all of the ride at Disney park be work when we visit   although the snow white ride be down a good part of the day   the food be incredibly expensive and compare to walt Disney   be nothing to write home about   the customer service overall be quite nice and the people all speak english and be polite   all in all I would return to the park for a day if I visit Paris again   but I certainly wouldn t go out of my way to visit specifically   my partner   who have never be to Disney Paris or walt Disney book we a trip to the orlando park because the entire time at Disney Paris I be comment that   this be not what a disney park should be  \n",
            "100.0% having be to the disney park numerous time over in florida   I go in with pretty low expectation for my first trip to Disney Paris   think it wouldn t be anywhere near as good but the Disney park really surprise I    be it as good as    more\n",
            "100.0% avoid weekend but a must visit for your VISITOR   focus on 1 park per day   disney park   studio park    big than HongKong   losangele\n",
            "100.0% some of the attraction weren t open which be disappointing but my VISITOR enjoy it   very similar to other disney park\n",
            "==================================================\n",
            "Topic 2\n",
            "100.0% it be a very nice stay at disney   but you need to know how do it function with the fast pass   other wise   you could spend the hole journey and not do half of the park once you arrive go and grab a fast pass for 1 attraction and go for another attraction once you finish the attraction   you ll go direct to the fast pass at the time you have already choose and do it   once finish   just do the same     go for a fast pass one   get your ticket and then go quick to another attraction     \n",
            "97.9% here be our itinerary for the almost perfect 2 park day   line up disney studio for gate opening at 9 30 am   rush to the right and line up for crush coaster for 9 50 am   after crush coaster head to get fast pass at tower_of_terror   head to the aeromsith_rocknroller rock in coaster and then go to the motuer action stunt show next door for 11 15 am   after stunt show grab lunch at the buffet restaurant across from armageddon   after lunch use tower_of_terror fast pass and then head to disney park by 1 30 pm   when you enter disney head to bug thunder railroad for fast pass   then hit the haunted manor   pirates_of_the_caribbean of carribean   grab buzz_lightyear light year fast pass   then head to space_mtn   star tour and then use buzz_lightyear fast pass   after buzz_lightyear head to main street for parade 5 30 pm   after parade go to indiana_jones   then use fast pas for thunder_mtn   have some dinner   grab a few more ride or shop and get in place for the 10 pm firework show by 9 15 9 30 in front of castle   watch show at 10 pm and head home   \n",
            "100.0% its like you be back to your childhood   its the good and you may use the fast pass in order to enjoy the full ride or else you will need to stay in que for age   use the guide map and time so you may cover up all use one day and next day the other park  \n",
            "100.0% what s not to like about Disney   this might be our 10th time and we re still look forward to our next return   it s the only park where adult enjoy as much as the VISITOR   albeit the crowd and the long queue   the attraction be worth it   if you can   use the fast pass ticket as these help cut the waiting time   it be also advisable to take meal early to avoid the rush   the two park be not to be miss\n",
            "100.0% great landscape   great ride   still no enjoyment as you be not able to do anything   all ride be over crowded   line of 2 hour for 2 min ride no really a great experience   my VISITOR be so excited to go    finally find himself exhaust    wait on line only   no fast pass   nothing in order\n",
            "==================================================\n"
          ]
        }
      ],
      "source": [
        "# topic modeling for positive Paris reviews\n",
        "X_reviews_pos_PAR, reviews_pos_PAR_terms = vectorizer.fit_transform(disney_pos_PAR.lemma_reviews), vectorizer.get_feature_names_out()\n",
        "reviews_pos_PAR_tf_idf = pd.DataFrame(X_reviews_pos_PAR.toarray(), columns = reviews_pos_PAR_terms)\n",
        "\n",
        "W_reviews_pos_PAR = nmf.fit_transform(X_reviews_pos_PAR)\n",
        "H_reviews_pos_PAR = nmf.components_\n",
        "\n",
        "print('topic modeling: ')\n",
        "get_top_tf_idf_tokens_for_topic(H_reviews_pos_PAR, reviews_pos_PAR_tf_idf.columns.tolist(), 5)\n",
        "\n",
        "print('top documents: ')\n",
        "get_top_documents_for_each_topic(W_reviews_pos_PAR, disney_pos_PAR.lemma_reviews.tolist())"
      ]
    },
    {
      "cell_type": "markdown",
      "metadata": {
        "id": "RFEL02zGxqAk"
      },
      "source": [
        "##### NEGATIVE REVIEWS"
      ]
    },
    {
      "cell_type": "code",
      "execution_count": null,
      "metadata": {
        "id": "KkbALnRHxzdF",
        "colab": {
          "base_uri": "https://localhost:8080/"
        },
        "outputId": "6e40ca1b-0fa4-41c4-9478-8df25d7ae2ad"
      },
      "outputs": [
        {
          "output_type": "stream",
          "name": "stdout",
          "text": [
            "topic modeling: \n",
            "TOPIC 0\n",
            "\n",
            "\bfast pass (1.1%)\n",
            "\n",
            "\bwait line (0.7%)\n",
            "\n",
            "\bline long (0.6%)\n",
            "\n",
            "\blong ride (0.5%)\n",
            "\n",
            "\blittle visitor (0.4%)\n",
            "\n",
            "==================================================\n",
            "TOPIC 1\n",
            "\n",
            "\bvisitor visitor (1.1%)\n",
            "\n",
            "\bwait time (1.0%)\n",
            "\n",
            "\bend day (0.7%)\n",
            "\n",
            "\btime ride (0.6%)\n",
            "\n",
            "\blook forward (0.5%)\n",
            "\n",
            "==================================================\n",
            "TOPIC 2\n",
            "\n",
            "\bdisney park (0.6%)\n",
            "\n",
            "\bday park (0.6%)\n",
            "\n",
            "\bpark day (0.5%)\n",
            "\n",
            "\bcalifornia adventure (0.4%)\n",
            "\n",
            "\bride really (0.4%)\n",
            "\n",
            "==================================================\n",
            "top documents: \n",
            "Topic 0\n",
            "98.0% we take out 5 and VISITOR boy to disney and we get there both time when the park open   I be run from one ride to another strategically plan how to get a fast pass and not have the VISITOR wait in line for so long   not every ride have a fast pass so      at one point we wait in line for 90 min for a ride   the food be not that great there thank god we pack snack and overall I be disspointe b c we do not get one single picture w   a character   the line each time be sooo long it be unreal   why would you have this so long for impatient VISITOR   the adult that be visit the park be very inconsierate of VISITOR and my VISITOR got trample while I be hold his hand and hit w   bag b c his short   for goodness sake ppl there be little VISITOR here have some sense  \n",
            "100.0% it be sad that overcrowding and greed have basically ruin one of the   previously   good place in the world   the bottom line be that there be too many people in the park   the line be too long   and you can barely move   the walt disney company    s brilliant solution   charge you extra money to use their     maxpass      that system allow you to make fast pass reservation on your phone   essentially you pay extra to get access to the fast pass system to save time   you can also get new fast pass quick than if you don    t buy the maxpass   more money for the mouse and you get a small break from the crowd   then the system break down    no refund offer   at that point you can wait on another line for 30 minute for a single fast pass to     make up     for the fact that the maxpass you pay for be break   then all of the ride be back up because the system be break   so you get in line and wait   because well you    re here and you pay   then a mumble announcement bad than a new york subway car sound overhead   after stand still for a few minute you understand that what have happen be the ride have break down while you have be wait and there be no recourse other than to accept you just pay to do nothing for the past 90 minute   at that point you realize that you just pay almost a _ cur_800 for a 2 day visit to the park   with a broken maxpass   to wait in line for a broken ride    which essentially amount to goofy hold your arm behind your back while an obnoxious orange county teen spit in your face   meanwhile you try to think back to the great memory you have when competent human actually run this place   as for the people run it now    they should be show the door   because it    s one thing to overcharge for something that    s a fun memory fill day   it    s another to provide an awful day of nothing   as a long time disney fan and visitor it sadden I to say that universal studio have finally surpass disney as a total   well run experience  \n",
            "100.0% if you have teenager    forget it    they win    t be interested in this hugely outdate over rate theme park   the so call fast pass be a joke    we arrive at 10 and couldn    t get on our ride of choice until 4   this wasn    t a peak period   line be too long for ride that be very underwhelming and haven    t change in 20 year    do yourself a favour    take they to six flag    your VISITOR will love you more     if you want nostalgia rewatch a movie and save yourself the pain  \n",
            "100.0% boy   before you purchase Disney pass rethink your decision   the place be overcrowded   overprice with long line up for everyone   the fast pass do assist a little with the old ride but it s true the new ride   car   fast pass be sell out and to stand in line be over 2 hrs     I feel sorry for the people and VISITOR in that long line up    wait    to go on that ride   the food in the restaurant be awful as they be in a hurry to get you in and out due to the volume of people   the bathroom   when you can find they   be old on the Disney side   and for the million plus people that go thru the park the one lady bathroom   I do find   have one change table   which I think be sad consider it s suppose to be a park for VISITOR   another disappointment be not see mickey until late in the evening and than    oh guess what    another line up    to have a picture take with he    pluto be actually turn away from the VISITOR   etc    as people be try to get his attention for a picture   it s a big park   I m sure have additional mickey s etc   walk around the park win t matter to people   as long as could get a picture     anyway    for the amount of _ cur__cur__cur _ you pay   don t bother    it really do suck    consider it s suppose to be a fun place   we win t return again    consider i didn t even take my visitor\n",
            "100.0% the line for ride be too long   yes   the fast pass help a little but stand in line for an hour   only to get a 5min ride be ridiculous   this be my 3rd trip and I feel like it keep get bad and long   there s more people and less space and ride to go on   this could just be the day I ve go on but I think I ll be stick to other park that aren t as busy   I m sure however if you re here with young impressionable VISITOR they will love it and not notice that   I m just past the age where I can stomach this kind of work to reward ratio\n",
            "==================================================\n",
            "Topic 1\n",
            "100.0% after recover from the _ cur_500 00 admission for myself VISITOR and 3 VISITOR   we be look forward to a nice day   but there be so many people you could barely walk   wait time for ride be outrageous   the occasional fast pass they issue help   but they be few and far between   to be fair everything be clean and well maintain majority of employee be nice   I would not go back   the expense and the limited amount you can see when the park be that full just drain the fun   at the end of the day we could not get out of there fast enough\n",
            "100.0% decide to surprise the VISITOR   2 and VISITOR   and go to Disney for christmas wait time for average ride be 40 minute   average wait time for popular ride be 90   minute   you could barely move in the park   VISITOR and I be extremely frustrated and disappoint   on the pro side   they do make an effort to provide healthy food   plenty of option for fresh fruit and vegetable at the park   which be a very nice surprise bottom line   if you be the type person that like the disney experience try to go during the low season   otherwise your enjoyment will be dilute\n",
            "100.0% we ve be to Disney several time and decide to take our VISITOR to Disney this year and boy be it not worth it   many of the ride be out of commission    small world   PIRATES_OF_THE_CARIBBEAN etc   and wait time at other ride be long   we also find it quite crowd   our VISITOR do not like it too much so that be our first and last time visit   one positive be the ample parking in the covered parking garage    a nice plus not have to go back to a scorch car at the end of the day\n",
            "100.0% go here on 05 20 17   never have I see such utter disregard for the handicapped   or such poor customer service   we get there just after open   the group be my VISITOR and her VISITOR and myself   VISITOR and VISITOR   my VISITOR purchase the ticket some _ cur_700 plus worth   first thing my VISITOR do be from minnesota be buy a few souvenir   about an hour in we decide to go to the_haunted_mansion   my visitor VISITOR have major back difficulty   so my VISITOR have I stay with her VISITOR and she and my VISITOR go to ask how we could make it easy on her VISITOR   they come back to we and my VISITOR be hot   she state that the girl at the gate tell she that even the crip must wait in the line   we go back to the gate to confront the girl but she be go   my visitor VISITOR decide to try and tuff out the line   a one point my VISITOR spot the employee that be rude to her   the employee see she come and remove her name badge   they argue   she exit somewhere into the ride and disappear   I try to calm down my VISITOR   she be hot    finally I think thing be go well   we be in fantasyland be my VISITOR decide to get a coke   she go to the stand where they sell coke product   she ask if the have coke zero   to which the person operate the stand name anthony say if you want coke zero you well find a liquor store   I give the young man a hard time but my VISITOR lose it   we go to the front gate where she complain   she then take she pass   souvenir and anything else she have that be disney and toss they in the trash and we leave the park after only a couple of hour   we then end up over at knott s berry farm where we have a great time   a day later I write an email to Disney describe my displeasure   I receive a phone call and an email while I be at work   I call back and speak to a lady name susan   from the get go this lady basically accuse I of be a liar   she make statement like our cast member would never do that   oh my they would never say that   well news flash susan the little fool do do and say that   my visitor VISITOR can barely walk and he be treat like a sub zero human   they have fool at the concession stand look only yo get a paycheck   I know what I m go to do   I will never set foot on a disney property ever again   we chuck out all their dvd s   my VISITOR contact I about the incident   and never want to hear about it again   to the folk that have read my review in the past   I be give you fair warning   you can this place the happy place on earth   I call it the most money hungry unethical place I have ever see   you pay hundred of dollar to get in only to be treat like dirt   if you want a real good time try knott s berry farm   this be a place I really enjoy and your treat like a human be not a discard piece of trash   see ya later Disney   you can continue your corporate greed at someone else s expense   not mine        \n",
            "100.0% the size of this park be tiny   definitely not worth the high entry fee   it s iconic and that s probably why it stay afloat   the star war addition be ok   I think it would have more then one movie   one museum   and one ride   it advertise it be much big   hyper SPACE_MTN be a ride we all enjoy   just very disappointed in the amount of thrill ride this park have   very minimal   should be well then what it be for the _ cur_100 admission per person   the ride be comparable to a county fair   definitely need a facelift   the firework be cancel last minute due to the wind   what wind     a local    an employee advise this happen often   probably a slick way for disney to save some money   disappointing to folk like I    who don t get out to california   this be a once in a lifetime thing   I ll be back to cali def not to Disney   utter disappointment for my VISITOR   my VISITOR be look forward to it   but they be not happy at the end of the day   shame on you mickey  \n",
            "==================================================\n",
            "Topic 2\n",
            "87.9% we take our two VISITOR boy to Disney in august   for two day   one park each day   it cost just over _ cur_700 in ticket for two adult and two VISITOR   that be entry ticket only   we choose the Disney park for the first day   we arrive around 8 am and ride the INDIANA_JONES ride first   as we be exit the ride   it break down   so we couldn t ride it again   the pirates_of_the_caribbean be also not work   and the haunted house wasn t work   we eventually be able to ride pirates_of_the_caribbean and the haunted house   but when we come back on our fast pass to ride indiana_jones   it again wasn t work   so we didn t get to ride it   we also really want to see the abe lincoln exhibit because our boy love history   we try to get in   but there be a private party   so we weren t allow in   we couldn t go to the lincoln exhibit on our second day at the park   because the second day ticket be good only at california adventure   I didn t buy the more expensive ticket that would have allow we to go to both park each day because I know we didn t have the energy to do both park in one day   I didn t realize so many attraction would not be work or close like the lincoln exhibit   it s also crazy that we d have to pay more for the two day two park ticket because of disney s problem   the second day we go to california adventure   we get there right when the park open so we could get a fast pass for the new car ride   we get the fast pass   but          the ride be break down   we keep check the ride throughout the day and finally at around 2 00 pm it be open and we be able to ride it   I feel we pay a lot of money for a frustrating experience   we don t expect to go back\n",
            "98.2% we visit Disney park on december 28 and while we be prepared to brave the crowd since it be the holiday season after all   we do not expect to see the park that pack   when you get into the parking lot   the cashier ask we if we already have ticket   which we have already purchase online   he let we in after pay the _ CUR_15 fee and hand we a green ticket that state that Disney park be busy so they be not let in people anymore   I guess that be disney s way of lift off their liability   we have the 2 day   one park per day package and be visit LosAngeles with a visitor   so it be not like we have the luxury of come back another day where it be less busy we be still able to get in despite the extreme business   it be pack   so pack that you could barely see the ground   I feel unsafe to get around and be hold my VISITOR s hand the whole time   we try to get by during the parade so we could do some ride   impossible average wait time be 50 minute for each ride   we only manage to do 2 ride in between the parade in the 4 1 2 hour we be there   food be awful and extremely expensive   _ cur_35 for the 2 bad hamburger we ever have and a mini pizza which be more dough than pizza and 3 drink   that be extreme   we also have to line up for that 20 minute   and line up for the washroom it be a big disappointment for we and anything but magical   they take so much money yet make it impossible to experience more that 2 3 ride per visit   that be over _ cur_20 per ride   a rip off   if you ask I I don t know if there be ever a slow time   avoid if you can\n",
            "100.0% we spend 5 1 2 day at Disney and california adventure in the first week of december   and thank goodness we have so long as the park be very crowded   we try to line up 30 minute before the parade and we end up somewhere we could only see the back of the float    the ticket be expensive   a_cur_1100 for 5 day park hopper for our VISITOR of 2 adult and 2 VISITOR    if you want to wait less than an hour to see a character   you have to pay _ cur_100   for a character breakfast   if you want a seat for the candlelighter s performance   that will be _ cur_50   I pay _ CUR_6 for a hot dog that be a micro bun and a small sausage   I ve have well food   and more reasonably price   in airport     if you want to actually see world of color   buy a meal that include a fast pass to a reserved area   it s add on   add on   add on   which after shell out _ cur_1100 to get in the gate   I think be too much the line be horrendous   45 minute to get in the gate with our pre pay ticket on day 2 as they be check photo i d of everyone who have more than a one day ticket   so that be basically everyone   dreadful experience   two hour    line up for the radiator spring racer   over an hour for the BUZZ_LIGHTYEAR lightyear ride in california adventure   and on and on and on and on the line list go   not at all suited to small VISITOR who have zero wait tolerance let alone when they be tired would I take our VISITOR back again   afraid not   that be my fourth visit to Disney in california and I fear it will be my last   which be a real shame\n",
            "100.0% it be my first time and I be extremely excited   we hire a car and in arrival be tell we have to go to the Disney california park until 3 as the main disney park be full    this be for free and you pay the normal price for entry   we go in and there be queue immediately    for everything    ride    shop    toilet    cafe   even the hot dog stand which for something so small cost nearly _ cur_10    we go on 3 ride in the california park then give up as it be 1hr 30    for everything    walk down the street be so stressful as there be people everywhere    still we be feel optimistic as we be now go over to the main disney park for   3 30pm   we hadn t see many character in the first park and think this may be because they be in the main park    we go over and there be 3 character at the entrance    I manage to get a photo with snow white and then we be mob    over 50 people around we in minute    it be very claustrophobic and we leave quickly    we go to space_mtn ride as this look the good    we queue for 2hrs 45min in the dark and cold to be tell it have break 3 time and wasn t work    so we go to the ride next to it and be there for an hour    it be near to 7 pm and we decide to leave    there be thousand of people in the park and it didn t feel safe at all   before leave we decide to complain at the main hall just before the exit    the man say the fire marshal control entry to the park    we insist it be overcrowded and spoil the park and he say that it be safe and they aren t let any more in   we say we have hardly see any character and get in no ride in the main disney park after aimlessly fight queue for hour   we ask for a partial refund of our _ CUR_96 dollar to be tell there be no refund allow to anyone and that he could give we fast pass ticket to 3 ride each    we take he up on the offer   we still wait nearly 45 min for each ride and 30 min to get out as the street be so pack we couldn t exit till it be safe    the staff be control where people go with rope     we feel like cattle     we get on the 3 ride and leave   get back for 11 30pm   I can honestly say it be the big disappointment    there be no magic   only stress and money money money   they need to let less people in and make it magical rather than take as much money and cram as many people in as possible   I agree with another statement make on here    if mr wald disney be to see this he would turn in his grave    shame on you disney manager    shame on you\n",
            "100.0% first of all   a lot of the ammeitie at the hotel be close   then splash_mtn and star war be close and then we wait through space_mtn line and right when we be ready to get on   they close that ride on use   they do give we a fastpass for any ride   but the ride we really want to go on be close   over all I spend about a _ cur_1 000 00 for a day at the hotel and a day at the park   I be a little disappointed\n",
            "==================================================\n"
          ]
        },
        {
          "output_type": "stream",
          "name": "stderr",
          "text": [
            "/usr/local/lib/python3.8/dist-packages/sklearn/decomposition/_nmf.py:289: FutureWarning: The 'init' value, when 'init=None' and n_components is less than n_samples and n_features, will be changed from 'nndsvd' to 'nndsvda' in 1.1 (renaming of 0.26).\n",
            "  warnings.warn(\n",
            "/usr/local/lib/python3.8/dist-packages/sklearn/decomposition/_nmf.py:1637: ConvergenceWarning: Maximum number of iterations 200 reached. Increase it to improve convergence.\n",
            "  warnings.warn(\n"
          ]
        }
      ],
      "source": [
        "# topic modeling for negative California reviews\n",
        "X_reviews_neg_CA, reviews_neg_CA_terms = vectorizer.fit_transform(disney_neg_CA.lemma_reviews), vectorizer.get_feature_names_out()\n",
        "reviews_neg_CA_tf_idf = pd.DataFrame(X_reviews_neg_CA.toarray(), columns = reviews_neg_CA_terms)\n",
        "\n",
        "W_reviews_neg_CA = nmf.fit_transform(X_reviews_neg_CA)\n",
        "H_reviews_neg_CA = nmf.components_\n",
        "\n",
        "print('topic modeling: ')\n",
        "get_top_tf_idf_tokens_for_topic(H_reviews_neg_CA, reviews_neg_CA_tf_idf.columns.tolist(), 5)\n",
        "\n",
        "print('top documents: ')\n",
        "get_top_documents_for_each_topic(W_reviews_neg_CA, disney_neg_CA.lemma_reviews.tolist())"
      ]
    },
    {
      "cell_type": "code",
      "execution_count": null,
      "metadata": {
        "id": "2qmx-GQSyFYa",
        "colab": {
          "base_uri": "https://localhost:8080/"
        },
        "outputId": "d17d5fce-08e3-4615-fb4a-882f433cb696"
      },
      "outputs": [
        {
          "output_type": "stream",
          "name": "stdout",
          "text": [
            "topic modeling: \n",
            "TOPIC 0\n",
            "\n",
            "\bcut line (4.0%)\n",
            "\n",
            "\bpark attendant (2.9%)\n",
            "\n",
            "\bbirthday ignore (2.6%)\n",
            "\n",
            "\bignore hear (2.6%)\n",
            "\n",
            "\battendant cut (2.6%)\n",
            "\n",
            "==================================================\n",
            "TOPIC 1\n",
            "\n",
            "\bocean park (4.2%)\n",
            "\n",
            "\bdisney california (3.3%)\n",
            "\n",
            "\btime money (3.2%)\n",
            "\n",
            "\bspend ocean (3.2%)\n",
            "\n",
            "\bhotel island (3.2%)\n",
            "\n",
            "==================================================\n",
            "TOPIC 2\n",
            "\n",
            "\bride ride (0.9%)\n",
            "\n",
            "\bjust long (0.9%)\n",
            "\n",
            "\bminute ride (0.9%)\n",
            "\n",
            "\bqueue hour (0.9%)\n",
            "\n",
            "\bqueue just (0.9%)\n",
            "\n",
            "==================================================\n",
            "top documents: \n",
            "Topic 0\n",
            "100.0% we be in line for the picture session with mickey when they park attendant cut the line and say that it s over   I request for at least one shot as it be my VISITOR s birthday but I be ignore and it be as if I be not hear\n",
            "100.0% the themepark be great   it be not disney s fault that the visitor be rude and unorderly   VISITOR and adult try to push past we to cut in line every minute of the day   will not return\n",
            "100.0% prepay for a 2 day ticket but be only issue a 1 day ticket at the park   cost we 2 hour to fix at the gate on the second day with a visitor which be so cranky after wait that long in the rain   not what you want when travel on a short trip   they do offer a fast pass onto all the ride which be then reject by all the park attendant once we be inside so we spend even long mess around once in the park   send email upon our return and also get no response   disappointing with the organization and service but the park be a good size for a 1 or 2 day visit\n",
            "0.2% we go there in rainy day so it wasn t crowd and most of the show be cancel it be really small and the crew be rude not helpful and not flexible with young VISITOR I will not go there again other Disney much more well\n",
            "100.0% second time here in 11 year and my first visit be well   try to celebrate our honeymoon in 1 of 3 disneyland   they don t have a good pin selection here   just sticker   not impressed since we traditionally get pin from Disney every time we go   customer service be not disney level   people avoid eye contact   only approach we at the dining cafe when we we re signal for help   and some cast member be on their cell phone   we we re try to buy storm trooper magnet and we have to wait for someone to look up from their phone and ring we up   the roller coaster be fun and there be no line it be a wednesday   super clean bathroom and park   toy story land be small but the ride be good for VISITOR   they decorate for halloween so it be enjoyable to see   due the damage from the typhoon   the jungle cruise be close   no biggie but I probably win t want to come back specifically for that ride   thank goodness for the good company I be with   he be able to point out the fun disney decor   which be what I love about disney park\n",
            "==================================================\n",
            "Topic 1\n",
            "100.0% hkg Disney be an expensive disappointment   time and money well spend     go to ocean park    especially if your hotel be on the island side\n",
            "100.0% not even close to the Disney in california   the food be horrible and expensive   this be a franchise   so should they have the same food as in Disney california    what happen to the caramel apple   american hotdog and burger   how be you suppose to feel the disney spirit without those thing   I have their version of a burger and it be down right sad   what a shame   I really want to like it but it just wasn t worth my time   there be hardly any attraction or ride   to those who plan to go   skip it and go to ocean park     there s so much more to do\n",
            "0.0% we be tell of vip treatment for VISITOR who be celebrate his 8th birthday in disney   I try get more information via email request for assistant but take I more than 5 email and 4 different person before I can place an order for a birthday cake and make a reservation for lunch there we order a disney birthday cake taste good   and make a reservation at the main street corner cafe for a group of 13 people   to our disappointment   no vip treatment at any of the ride   no vip treatment at restaurant   he do receive a   birthday goodie bag   from the cake I order   but   would you consider a party hat   1 sheet of disney serviette   1 disposable plastic spoon and fork   1 colour paper   1 balloon a goodie bag   disappointing   very disappointing my VISITOR have to write in to express out disappointment but   the experience there already leave we sour     will we recommend disney HongKong   my review say it all    \n",
            "0.0% this be my first time go to a Disney and I never expect it to be that bad   firstly   hkd be way too overcrowded and they don t limit the amount of visitor there be a day   I believe that 200 people should be the maximum since I only go to a couple of ride   SPACE_MTN    fast track ticket      buzz_lightyear lightyear astro blaster   jungle river cruise   autopia   it s a small world   stitch encounter and slinky dog spin   for I   the stitch encounter and the slinky dog spin be the bad because the stitch encounter be basically watch stitch talk and have a chance of talk to he    on screen   for VISITOR    and I think it be a ride   the que be horribly long    1 hour on a hot day    the slinky dog ride be very bad either   45   minute que to go on a dog ride    3 4 lap of a a circle    which make the ride less than 1 hour   however   I do recommend autopia   SPACE_MTN   astro blastersand the jungle river cruise   on the other hand   the food there be disgusting and dry which cost 98 HongKong dollar    equivilent to    9 80 uk money    what a rip off          the staff have bad manner   the one I experience be the one in the jungle river cruise   somehow   they show disrespect to mainland china people since my VISITOR and I split the group in half because half of we want to rest and half of we want to go on ride   so they find a ride and they call we to go and when we reach there they didn t let we through since they think we be que cutting but my VISITOR be at the front of the que and they be talk disrespectfully to my VISITOR as his first language be mandarin but his cantonese be good   but   when my mum come and speak cantonese they go silent and let we through   here we can the see the discrimination between hongkongese and chinese mainlander   also   people from south west china have well manner than mainlander so I don t understand why they think we be mainlander   I m from the uk and find this a rasict   in conclusion   I find hkd terrible   I do not reccomend hkd to people because of the overcrowded visitor   the positive thing about this trip be that you get to watch the 9 00pm firework and get to learn your lesson   the park open at 8 00 or 9 00 and close at 10 00 but when my VISITOR arrive   there be a bunch of people already there   also   be careful since you be at risk of have your visitor lose   from a review of a teenager from the uk\n",
            "0.0% prepay for a 2 day ticket but be only issue a 1 day ticket at the park   cost we 2 hour to fix at the gate on the second day with a visitor which be so cranky after wait that long in the rain   not what you want when travel on a short trip   they do offer a fast pass onto all the ride which be then reject by all the park attendant once we be inside so we spend even long mess around once in the park   send email upon our return and also get no response   disappointing with the organization and service but the park be a good size for a 1 or 2 day visit\n",
            "==================================================\n",
            "Topic 2\n",
            "100.0% this be the second Disney I have be to after the one in anaheim   it be my first trip to HongKong however and perhaps the review I m leave be due to having not experience the culture here or the people   but it be my experience the pushing and shove to get onto each ride be ridiculous   mother yank their scream visitor past other to get good seat   I be tread on multiple time   have my face scratch by umbrella and selfie stick   which be prohibit but not police    on every ride we go on all you could see be the flash from camera   on the mystic manor ride you couldn t see the projection because everyone be film it aside from the other people there   half of the park be not open   there be a typhoon warn 3 when we arrive and be tell none of the outdoor ride would be open at all   then when we leave at 2 pm we be tell the outdoor ride be about to open   good thing we didn t leave    all the while all of tomorrow land be close we end up go on about 4 ride multiple time as they be our only option   while getting push and shove and blind by flash\n",
            "100.0% this be my first time go to a Disney and I never expect it to be that bad   firstly   hkd be way too overcrowded and they don t limit the amount of visitor there be a day   I believe that 200 people should be the maximum since I only go to a couple of ride   SPACE_MTN    fast track ticket      buzz_lightyear lightyear astro blaster   jungle river cruise   autopia   it s a small world   stitch encounter and slinky dog spin   for I   the stitch encounter and the slinky dog spin be the bad because the stitch encounter be basically watch stitch talk and have a chance of talk to he    on screen   for VISITOR    and I think it be a ride   the que be horribly long    1 hour on a hot day    the slinky dog ride be very bad either   45   minute que to go on a dog ride    3 4 lap of a a circle    which make the ride less than 1 hour   however   I do recommend autopia   SPACE_MTN   astro blastersand the jungle river cruise   on the other hand   the food there be disgusting and dry which cost 98 HongKong dollar    equivilent to    9 80 uk money    what a rip off          the staff have bad manner   the one I experience be the one in the jungle river cruise   somehow   they show disrespect to mainland china people since my VISITOR and I split the group in half because half of we want to rest and half of we want to go on ride   so they find a ride and they call we to go and when we reach there they didn t let we through since they think we be que cutting but my VISITOR be at the front of the que and they be talk disrespectfully to my VISITOR as his first language be mandarin but his cantonese be good   but   when my mum come and speak cantonese they go silent and let we through   here we can the see the discrimination between hongkongese and chinese mainlander   also   people from south west china have well manner than mainlander so I don t understand why they think we be mainlander   I m from the uk and find this a rasict   in conclusion   I find hkd terrible   I do not reccomend hkd to people because of the overcrowded visitor   the positive thing about this trip be that you get to watch the 9 00pm firework and get to learn your lesson   the park open at 8 00 or 9 00 and close at 10 00 but when my VISITOR arrive   there be a bunch of people already there   also   be careful since you be at risk of have your visitor lose   from a review of a teenager from the uk\n",
            "100.0% I go to Disney with my VISITOR some time in october and I didn t really like I arrive at 11 am and leave at about 4 pm because it be boring   there be only a few ride and they last for a few minute   the only person that be available to take a picture with be mickey mouse   their be no other character to take picture with   the staff be a bit rude don t think I ll ever be return to this Disney again\n",
            "100.0% will not be go back   very expensive and you queue for an hour for a 2 minute ride   the ride be great once you get on but the queue be just too long\n",
            "100.0% we be tell of vip treatment for VISITOR who be celebrate his 8th birthday in disney   I try get more information via email request for assistant but take I more than 5 email and 4 different person before I can place an order for a birthday cake and make a reservation for lunch there we order a disney birthday cake taste good   and make a reservation at the main street corner cafe for a group of 13 people   to our disappointment   no vip treatment at any of the ride   no vip treatment at restaurant   he do receive a   birthday goodie bag   from the cake I order   but   would you consider a party hat   1 sheet of disney serviette   1 disposable plastic spoon and fork   1 colour paper   1 balloon a goodie bag   disappointing   very disappointing my VISITOR have to write in to express out disappointment but   the experience there already leave we sour     will we recommend disney HongKong   my review say it all    \n",
            "==================================================\n"
          ]
        },
        {
          "output_type": "stream",
          "name": "stderr",
          "text": [
            "/usr/local/lib/python3.8/dist-packages/sklearn/decomposition/_nmf.py:289: FutureWarning: The 'init' value, when 'init=None' and n_components is less than n_samples and n_features, will be changed from 'nndsvd' to 'nndsvda' in 1.1 (renaming of 0.26).\n",
            "  warnings.warn(\n",
            "/usr/local/lib/python3.8/dist-packages/sklearn/decomposition/_nmf.py:1637: ConvergenceWarning: Maximum number of iterations 200 reached. Increase it to improve convergence.\n",
            "  warnings.warn(\n"
          ]
        }
      ],
      "source": [
        "# topic modeling for negative Hong Kong reviews\n",
        "X_reviews_neg_HK, reviews_neg_HK_terms = vectorizer.fit_transform(disney_neg_HK.lemma_reviews), vectorizer.get_feature_names_out()\n",
        "reviews_neg_HK_tf_idf = pd.DataFrame(X_reviews_neg_HK.toarray(), columns = reviews_neg_HK_terms)\n",
        "\n",
        "W_reviews_neg_HK = nmf.fit_transform(X_reviews_neg_HK)\n",
        "H_reviews_neg_HK = nmf.components_\n",
        "\n",
        "print('topic modeling: ')\n",
        "get_top_tf_idf_tokens_for_topic(H_reviews_neg_HK, reviews_neg_HK_tf_idf.columns.tolist(), 5)\n",
        "\n",
        "print('top documents: ')\n",
        "get_top_documents_for_each_topic(W_reviews_neg_HK, disney_neg_HK.lemma_reviews.tolist())"
      ]
    },
    {
      "cell_type": "code",
      "execution_count": null,
      "metadata": {
        "id": "76HzTx8pyPU5",
        "colab": {
          "base_uri": "https://localhost:8080/"
        },
        "outputId": "103f36b7-42a2-4ed3-ee64-107a7d7ab03e"
      },
      "outputs": [
        {
          "output_type": "stream",
          "name": "stdout",
          "text": [
            "topic modeling: \n",
            "TOPIC 0\n",
            "\n",
            "\bdisney paris (0.5%)\n",
            "\n",
            "\btheme park (0.3%)\n",
            "\n",
            "\bfast pass (0.2%)\n",
            "\n",
            "\bdisney park (0.2%)\n",
            "\n",
            "\bvisit disney (0.2%)\n",
            "\n",
            "==================================================\n",
            "TOPIC 1\n",
            "\n",
            "\bfast track (1.1%)\n",
            "\n",
            "\bvisitor visitor (1.0%)\n",
            "\n",
            "\bride close (0.7%)\n",
            "\n",
            "\btrack ticket (0.6%)\n",
            "\n",
            "\bpay extra (0.5%)\n",
            "\n",
            "==================================================\n",
            "TOPIC 2\n",
            "\n",
            "\bbig ride (1.6%)\n",
            "\n",
            "\bride weren (1.6%)\n",
            "\n",
            "\bstaff ride (1.1%)\n",
            "\n",
            "\bvisitor want (1.1%)\n",
            "\n",
            "\bmaintain ride (0.9%)\n",
            "\n",
            "==================================================\n",
            "top documents: \n",
            "Topic 0\n",
            "100.0% where do you start       firstly if you only read one bit of my review then go to florida instead   it be 100   well   we ve be twice there and it be a different league and cheap aswell back to les miserable or disney Paris      the park be hugely overcrowded   everyone other than the brit be rude which be something I never think I d say   the brit stand out as be polite when quee for ride or the bus   they   the italians   french and portugese   do not know what a que be   be arrogant and don t care if they physically push your VISITOR out of the way to get to a ride first   we watch an old french couple in their 60 s push past everyone just to get on the thunder_mtn before other people   they actually pick through the stationary que to get on quick   I tell they that they need to get there before I as obviously they be old and it may be there last chance and they just sneer   I be amazed   I watch an italian old lady push three french youth backwards as they try to jump the que on aeromsith_rocknroller coaster and the disney attendant be useless   the youth just laugh at the old lady who later spat on they   nice for your VISITOR to watch      the disney staff be totally unhelpful   inpolite and if there be a problem amazingly retract from speak any english   they do not enforce any rule at all as there be none   the que time be completely incorrect on most occasion 15 min    45 min in reality and so on   and they do not help reduce que     we que to get to the crush s coaster fast pass machine to get a fast pass ticket   only to find that the fast pass machine under the magic carpet ride sign be all for crush s coaster hence no need for a 10 min que to get a fastpass ticket   however   not one of the two clown help everyone on the one label crucsh s coaster machine think to tell the que not to bother quee     crazy it s also overprice as to give you an idea a small coke be    2   I know sterling be poor but come off it disney or rather the french      the local esso garage be 2 5 time cheap    and a few hundred metre from the park   do disney use solid gold delivery truck or something      it really be a great french rip off   the hotel in the area be shock   our be the holiday inn     I win t even go there on review it yet as I m still await an apology from the executive director for such an awful stay but watch this space the disney village be small and overpriced and disney studio be tiny   we d never visit disney Paris again nor would our VISITOR or france for that matter   the security bag check at the park be a joke   que to get your bag pat on the side    waste of time   at least if you have to que for it they should look in your bag    job creation spring to mind   also where be the character       very few character appearance and when they do it s a free for all in the que again anyway the bottom line be if you like huge que    overprice product and food   and very rude people then go to disney Paris   if you don t then go to florida as they be world and world apart     \n",
            "100.0%   this be intend as an open letter to disney dear disneyat the beginning of august   I visit Disney Paris with VISITOR and a visitor of we   this wasn t the first time   that I ve be here   back in 2005 and around 1997 I visit Paris and Disney   in 2003 I be at Disney in california and in the year 1995 be the first time I go to Disney   california as well    this summer I ve also be to europa park in germany   blackpool pleasure beach in the uk and alton tower   which be also locate in the uk   besides that I ve be various time to universal studio   six flag and many water park   just to give you an idea of how many time I ve be to a theme park or similar attraction what I ve see at the beginning of august   be just one bad experience I would like to forget as fast as possible   I be truly disappoint by what the management have make of Disney Paris first of all   the park be in very bad shape in my opinion   there be countless place which need refurbishment   in picture 1 7 you can see some example   in picture 6   there be obviously something wrong with the gardening job and the various fence and handrail show   that paint job be desperately need   steel support be rust   everywhere   the floor be crack open all over the place   inside and outside   sign be in bad shape too   check out picture 8   the one with the leg     sorry about that    what could it possibly cost to replace such a sign   it do seem to be ancient   another example of a sign can be see in picture 9   people be try to peel off sticker as souvenir   of course this happen everywhere   but thing like that need immediate replacement picture 10 and 11 give an idea in what condition the studio tour ride be   image 12 and 13 show the wait area of one of the new ride   some kind of seal gasket be come off the ceiling   it would just take a ladder to fix that      and the lamp that can be see in the picture hasn t see clean in age   there be one picture which show that refurbishment at a building be be do   which be totally ok     but do it need to be during high season in the middle of summer   secondly   there be countless close restaurant   see far attach picture   I d say about half of the restaurant and food station be close during the day   mind you   we visit during high season on a saturday   at some restaurant we get discount that where valid at specific time in specific restaurant   however   you have to find one that be open third and probably the most frustrating issue be the condition of the ride   have a look at the attach screenshot of the official Disney Paris app which contain the ride queue time and status   this be just an example of how the app be look during that day   space_mtn for instance   be down countless time   also the late attraction   ratatouille   be barely up and run   in one of the picture you see staff send people away   if you have equally as much technician   maybe your ride would be in well shape in another picture you see an employee   posing   for I after I ask he to take a picture of he in front of a closed ride   one picture show the empty cart of that same ride which they have to send through for an hour to test thing   fasttrack have be close at most attraction as well during that day   we couldn t figure out a reason for that   especially since it be for attraction like   ratatouille   the fourth thing   which be very disappointing be   that the park have be desert of mickey   minnie   pluto and all the other   we do not see a single character in the park during our 13 5 hour      visit to Disney Paris   how be something like that possible in Disney   even at blackpool pleasure beach they have sponge bob run around and europa park be full of various character what need to be say as well   be   that the ride of Disney Paris be completely outdated and the new one be not enjoyable because of their technical issue   it seem over twenty year ago   there have be give a Disney to europe and it have be keep in it s   original shape   ever since   minus the much needed refurbishment my impression of disney and the whole feeling I have about Disney have be totally destroy   the walt disney company should consider of take away the disney label from that park and park management should just continue run an amusement park   but this be not a Disney   it s a disgrace to all that be and especially ever have be   disney last but not least it need mention   that you get all this at a price of     88 whereas for example the europa park   which be a far superior experience   cost     41 on the positive side   this have motivate I to go to the united states in 2015 to experience the real disney again and not this sorry excuse of what this place have become kind regardsa loyal swiss disney customer\n",
            "99.6% overall   this be not a true representation of a disney theme park   it be a poor relation   they sell way too many ticket   so the park be overcrowded   and there be not enough ride for people to go on   leave huge queue   one morning as we enter there be a wait time of 95 minute    first thing as the door open   this you don t see in florida until well into the day and even then   there be far more ride and fast pass ride   Disney Paris have limit fast pass   half the ride break down on a daily basis   it be a total rip off for food   and what s more   the toilet stink and the character give autograph favour french speaker   our main concern however   be that there be absolutely no organisation of the character give autograph   why can t there be an organised and civil line with people take turn in an orderly manner    the lack of organisation could be a joke except that our VISITOR s safety be no laughing matter   the character be mob   our VISITOR be push and shove by adult and we be alarmed that this happen time and time again   furthermore   follow a show on the stage   the character come off the front of the stage   make the whole crowd surge forward   our VISITOR be crush between three adult who be more bothered about shove their child on a photo   or to get to the packet of sweet the character be hand out   it be totally unsafe   there be no barrier to stop the crowd crush young VISITOR and this sort of action could cause an accident where a child could be injure   we have never be so anxious in a disney park   and it spoil our visit   character should not wander around allow they to be swamp and encourage certain adult behaviour to become desperate and competitive to get to the character   it be not acceptable health and safety in this day and age   the character also wander from their initial spot    they be surround by a huge crowd of people with young VISITOR be push and shove   then they make it bad by move   always with the great mob follow they    we lose our VISITOR on two occasion because the character move   again   this be not safe to do   no other disney park have this irresponsible and disorganised way of access to character   every other disney park have orderly manage line with people take turn   we would also like to point out that despite the rest of europe ban cigarette smoking   the french still allow smoking outdoors   but what be not acceptable be that they allow adult within a disney park to walk around   cigarette hold at child height    ready for a child to be burn by one   it be not acceptable it be suffice to say that we would never return to Paris Disney    it can not guarantee the safety of young VISITOR with its poor and unsafe practice   there be an accident wait to happen   save your money and go to proper Disney in florida   it be a totally happy   safe and amazing experience\n",
            "98.7% the park look lovely   the staff be VISITORly   but really I spend the day in a series of long queue   for food   for ride   for the bathroom   in shop   it be so crowded it be difficult to walk place   some ride have queue of over 2 hour   and yes I know I could have buy a fast pass but why should I have to pay twice to go on the ride   also   in the queue   a lot of the time we be next to french people smoke   despite the no smoking sign   I feel like Disney be really more like any other theme park as oppose to be similar to Disney in florida   we try to make the good of the day but I really wouldn t go again   I can stand outside do nothing for free at home\n",
            "100.0% Disney Paris manage a really difficult task   kill the disney magic   I have be to several Disney park around the world   include california and japan and Paris be by far the bad   let    s start with the good point   the park be clean   some staff be really nice   the light show and parade be up to Disney standard now the bad   first   the poor queue management and the huge waiting time   they advertise for an app but it be not work   all the waiting time show in the app be wrong and hugely under evaluate   and never update   the staff if not evaluate and refreshing the queue time on site either   the non work app and the randomly huge queee time    30 min for its a small world     make it really hard to plan your activity wait time and queue be really a problem everywhere in the park   be prepared to queue at toilet restaurant   shop   everywhere   for instance   instead of have the disney caracter walk around the park hug VISITOR   they stay in one place and they make you queue   again   to see they   this be really disappointing for young VISITOR would you queue an hour to see mickey   all the attraction in fantasyland close really early at 6 pm   this be because of the lightshow at 7 30 pm   a really nice show   but it make a really short day all this would still be ok   provide the staff be all nice   yes   the bad thing in this park be probably the staff   not all of they   most of they be nice   however you may encounter some staff shout at you angrily at any occasion   for instance   when prepare for a parade   instead of tell you nicely where you can cross they will yell at you       no   no      angrily   there be an italian restaurant in fantasyland where they yell at I and my 4 y o   because we want to seat while my VISITOR be queue   a group of exhausted teenager nearby get the same angry yell   apparently you don    t have the right to rest and chill   everybody have to queue   when we be watch the parade   a staff member yell at a nearby young couple try to stand on a fence to see well   instead of go there to tell they nicely that they couldn    t stand on the fence   the staff yell at they angrily from far away   like they do something really bad    it scare all the people around and kill the nice mood of the parade   the random yelling and rudeness   and exhaustion from queue drain our energy   Disney Paris should train their staff in anger management and hospitality   they should properly manage their queue and have a function app   if you have the luxury to go to another Disney   avoid this one\n",
            "==================================================\n",
            "Topic 1\n",
            "100.0% my VISITOR   VISITOR VISITOR go to disney to celebrate his 40th and her dream to see Disney castle   on arrival at the disney hotel we be greet eeyore   all very excited and think we be in for a great 5 day   our room be nice but not really 5 star   public room be again pleasant but 5 star not really how I would imagine   buffet breakfast lot of choice but not brilliant taste wise   our first trip into the park be exciting and when we see the castle we be all overjoy   that be the end of the thrill   ride be disappoint   after queue of 45 min to result in a 1 3 min ride no fun   ride be close   our fast track ticket not valid between 1    4 pm    and when we do manage to use they we still queue for 20 min for a peter pan ride which be 70   in darkness with star    at the end of every ride I want to tell the hundred in the queue not to bother   after 2 day my little girl cry to go and want to stay in hotel and swim   the park lack disney character around the ark apart from the parade   so expensive    shop sell all disney wear    princess dress between    65 and    100    food awful and expensive    dinner with the princess pre book in uk    we see 3 princess and the bill with a bottle of wine    190   everyone walk from one queue to the next with miserable face   it be a dreadful expensive trip   a day would be long enough for anyone but I would never do it again   we be tell breakfast with the character   they didn t mention they be outside the breakfast room and have to queue for a photo   we be invite to upgrade on arrival for    200    to have a fast track for all day   but lot of the ride do not have fast track   no no no don t go  \n",
            "100.0% I take my 2 visitor to Disney expect a magical dream   how wrong be I     2 hour que for ride    we manage to get on 5 ride in the 2 day we be there   or should I say 4 and a half as one ride break down with we on it   we be then tell that we could have a fast track ticket to compensate we for the inconvienience to then be question and call a liar by staff say they do not believe we have even be on the ride    26 euro on 2 signiture book for 2 signiture     my VISITOR VISITOR and VISITOR VISITOR be in the que for a signiture off daisy duck   when a member of staff come over with a card   hand it to a member of staff stand with daisy duck and physically push my VISITOR backwards shout    special child come throw     my 2 visitor and all the other VISITOR who have be wait patiently in the que have to stand back and watch this so call    special child   push in front of they and have their book sign and photo take with she    they also close off an area for the charactor with only certain VISITOR be let throw in front of all the other VISITOR   clearly if you want to meet the charactor then you pay extra     if you have not get the money then your VISITOR get push to one side and watch the   special   VISITOR meet they    I do not remember see disney advertise this in their magical advert    the food be very expensive and not worth what you pay   13 euro for hotdog and fry    not include a drink    on the way home I ask my VISITOR if they enjoy themselves   my VISITOR inform I that next year he would rather go butlin     this be an experience I never wish to experience again  \n",
            "100.0% entrance fee      88 on the day we pay     106 per person for 2 day so pleased with that   the ride be not bad   recommend space_mtn   thunder_mtn and indiana_jones in Disney and the good two we have time for in the studio be the tower_of_terror   great fun and finally with some staff who be involve and make it special   and the aeromsith_rocknroller rock and roll coaster again great fun and probably the most I have enjoy a roller coaster especially with the rock music what we learn   pre buy ticket at the cheap price you can find   use the fast track ticket   they be free and mean you can see other stuff while queue but be careful the queue once you use fast track can be the same length as the normal queue if it be short   teenager and adult we think the studio be well for we   don t eat in the park it be stupidly expensive and poor quality   expect to pay an extra     15 to park each day   what a rip off    expect to walk everywhere the train be slow and more of a gentle ride than transport and have queue with no fast track   4 ride be close when we be there   school holiday in august      as be many food stall and restaurant and all these open later on   staff be generally not involve and don t enter into the spirit with some notable exception be one of the train driver and the tower_of_terror team   but most come across as grumpy or uninterested   several building be cover in scaffold which ruin the atmosphere   take rain wear as some of the queue be outside as be most of Disney to sum up we be glad we go but be leave feel rip off by the price and disappoint by the lack of effort   consider the cost it might be well to save the money and put it towards a trip to Disney florida\n",
            "100.0% although we pay extra for fast track ticket it be a waste of time as we be not allow to use they   stand in the queue for age in this weather be not what we envision and pay for   didn t have enough time to enjoy most of the ride on our break there   the food be outrageously expensive and the service be terrible   wish we have book Disney instead  \n",
            "100.0% I spenr two day with my VISITOR and VISITOR and we couldn t be more disappointed   no matter where we go the employee be almost rude   unwilling to help or answer our question   the show and ride be close with out any explanation   food be horrible an so be service   this be not one of the happy place on the earth  \n",
            "==================================================\n",
            "Topic 2\n",
            "99.8% we drive and get to the park at 10 30 then wait 1 hour to buy a ticket for both park for 2 adult and 3 teenager   this cost over 400 euro   when we eventually get in at midday none of the fast pass be work so it be between one and two hour queue on the big ride   some ride be break   we leave at 7 and have go on 4 ride   the staff be nothing like american disney staff   the ride weren t even as good   load of people smoke   do not go here if you get the chance go to florida it doesn t compare  \n",
            "100.0% I accept the park have to maintain the ride but too many of the big ride weren t open when we visit today   I be visit with my teenage VISITOR so he only want to go on the big one        I find this a poor experience especially in comparison to the florida park who seem to have a much well operating rythmn\n",
            "100.0% come here for my triplet girl 16 birthday as a special treat    sorry to say that this be not a patch on florida    here be the low light    too small    no magic    no character wonder around    few staff around except on ride    load of ride    more\n",
            "76.8% I be very sad to see the condition that the park be in   many ride be close   it be actually ridiculous the amount of ride   and very important one close   the other ride have technical problem constantly   every day we would wait for more than 30min and when we where about to go to the ride   at least 3 ride per day they would say that there be a problem and they force you to leave   I be only give once a fast pass to go back   but the ride be out of service during the whole day so we couldn t even ride it   staff be rude   they don t even bother to explain it in english or spanish and when they want to say something they do it in french and many of they in such a low tone it s imposible to even try to understand I be work in disney 2 year ago and I be very sad to see how it be now   I ask the people I use to work with and they tell I that they be renovate the attraction for next year that will be disney s 25th anniversary   so if you really want to go   wait until next year because it be a mistake go now\n",
            "100.0% ok   maybe it s logical   but it be not to I whe have to party for a VISITOR s thesis and book we go there in high spirit but actuyally I could never go back alone or with a visitor or enven to spend an amusing daytime after 16   the only reason to go there be if you have a child oblige you or a group of mad drunk VISITOR that want to loose an evening\n",
            "==================================================\n"
          ]
        },
        {
          "output_type": "stream",
          "name": "stderr",
          "text": [
            "/usr/local/lib/python3.8/dist-packages/sklearn/decomposition/_nmf.py:289: FutureWarning: The 'init' value, when 'init=None' and n_components is less than n_samples and n_features, will be changed from 'nndsvd' to 'nndsvda' in 1.1 (renaming of 0.26).\n",
            "  warnings.warn(\n",
            "/usr/local/lib/python3.8/dist-packages/sklearn/decomposition/_nmf.py:1637: ConvergenceWarning: Maximum number of iterations 200 reached. Increase it to improve convergence.\n",
            "  warnings.warn(\n"
          ]
        }
      ],
      "source": [
        "# topic modeling for negative Paris reviews\n",
        "X_reviews_neg_PAR, reviews_neg_PAR_terms = vectorizer.fit_transform(disney_neg_PAR.lemma_reviews), vectorizer.get_feature_names_out()\n",
        "reviews_neg_PAR_tf_idf = pd.DataFrame(X_reviews_neg_PAR.toarray(), columns = reviews_neg_PAR_terms)\n",
        "\n",
        "W_reviews_neg_PAR = nmf.fit_transform(X_reviews_neg_PAR)\n",
        "H_reviews_neg_PAR = nmf.components_\n",
        "\n",
        "print('topic modeling: ')\n",
        "get_top_tf_idf_tokens_for_topic(H_reviews_neg_PAR, reviews_neg_PAR_tf_idf.columns.tolist(), 5)\n",
        "\n",
        "print('top documents: ')\n",
        "get_top_documents_for_each_topic(W_reviews_neg_PAR, disney_neg_PAR.lemma_reviews.tolist())"
      ]
    },
    {
      "cell_type": "code",
      "execution_count": null,
      "metadata": {
        "id": "AlsHzkWW8UH7",
        "colab": {
          "base_uri": "https://localhost:8080/"
        },
        "outputId": "02d600c5-f8c6-44e2-9df1-ba5460184fdd"
      },
      "outputs": [
        {
          "output_type": "stream",
          "name": "stdout",
          "text": [
            "topic modeling: \n",
            "TOPIC 0\n",
            "\n",
            "\bride close (1.6%)\n",
            "\n",
            "\bwaste money (0.9%)\n",
            "\n",
            "\bstaff lot (0.8%)\n",
            "\n",
            "\bmoney advise (0.8%)\n",
            "\n",
            "\bsmelly rude (0.8%)\n",
            "\n",
            "==================================================\n",
            "TOPIC 1\n",
            "\n",
            "\btheme park (0.4%)\n",
            "\n",
            "\bpeople smoke (0.4%)\n",
            "\n",
            "\bfast pass (0.4%)\n",
            "\n",
            "\bride weren (0.4%)\n",
            "\n",
            "\bbig ride (0.4%)\n",
            "\n",
            "==================================================\n",
            "TOPIC 2\n",
            "\n",
            "\bfast track (1.2%)\n",
            "\n",
            "\bvisitor visitor (0.9%)\n",
            "\n",
            "\btrack ticket (0.7%)\n",
            "\n",
            "\bpay extra (0.6%)\n",
            "\n",
            "\bride break (0.4%)\n",
            "\n",
            "==================================================\n",
            "top documents: \n",
            "Topic 0\n",
            "100.0% easter sunday we take our VISITOR to Paris Disney for her tenth birthday   start our experience in a dirty cafe with hardly any seating and a awful coffee    muffin and hot chocolate so hot my VISITOR burn t her mouth   first ride be close   second ride close   pocahonta playground be lame   next stop   orbitron 1hour wait for a ride that take under two minute   take ten minute to buy two pack of crisps when there be only two people ahead of I   the food be serve look so plastic   all we want be some sandwich   we leave starve   everywhere we go ride be close    include space_mtn   the ride that be open have wait time of over an hour and many with no   fast pass    we describe it as a very very expensive theme mall as the only place that be easy to access be the many shop sell endless disney product   even then the service be painfully slow   congratulation to all the wonderful   patient   tolerant    well mannered good humour parent from all over the world that be at Disney Paris easter day\n",
            "100.0% dirty   smelly   rude staff   lot of ride close   lot of show not on   and no it s not because I ve be to disney in america   it be a waste of money and I d never advise anyone to visit\n",
            "100.0% we be super pump about take the VISITOR to Disney as part of our europe trip   what a let down    there be more disney merchandise shop than ride   many ride be close for renovation etc    and this mean huge queue for the few ride that be operate   this obviously lead to immense strain for certain ride   we queue for thunder_mtn   one of the few operating ride   for an hour until it break and close for the day   it be all filler and no substance    seriously just merchandise   there s not much to do   my VISITOR count 32 merchandise outlet on Disney map app   and on the day we visit the ride operate be the   1   hyperspace mountain    2   buzz_lightyear lightyear blast   actually okay     3   orbitron   address up merry go round     4   the autopia car drive    5   DUMBO_FLYING_ELEPHANT and   6   peter pan   oh and the aforementioned thunder_mtn   break down    the swiss VISITOR robinson tree house feature look exciting but its just a walk   yes   a walk   up and down a concrete tree    no slide   swing etc I m not sure how you would fill two day here   possibly most of this time would be spend queue for your lunch in the pizzeria belle notte   there s nothing vaguely magical about it   actually the magical part be how it have keep open all these year   if this be my theme park I would be ashamed   my VISITOR   10 and 8   hate it and of the 32 day trip in europe they rank their visit to Disney Paris as the bad day terrible waste of money and time   so disappointing\n",
            "76.0% I spenr two day with my VISITOR and VISITOR and we couldn t be more disappointed   no matter where we go the employee be almost rude   unwilling to help or answer our question   the show and ride be close with out any explanation   food be horrible an so be service   this be not one of the happy place on the earth  \n",
            "68.4% I be very sad to see the condition that the park be in   many ride be close   it be actually ridiculous the amount of ride   and very important one close   the other ride have technical problem constantly   every day we would wait for more than 30min and when we where about to go to the ride   at least 3 ride per day they would say that there be a problem and they force you to leave   I be only give once a fast pass to go back   but the ride be out of service during the whole day so we couldn t even ride it   staff be rude   they don t even bother to explain it in english or spanish and when they want to say something they do it in french and many of they in such a low tone it s imposible to even try to understand I be work in disney 2 year ago and I be very sad to see how it be now   I ask the people I use to work with and they tell I that they be renovate the attraction for next year that will be disney s 25th anniversary   so if you really want to go   wait until next year because it be a mistake go now\n",
            "==================================================\n",
            "Topic 1\n",
            "100.0% we drive and get to the park at 10 30 then wait 1 hour to buy a ticket for both park for 2 adult and 3 teenager   this cost over 400 euro   when we eventually get in at midday none of the fast pass be work so it be between one and two hour queue on the big ride   some ride be break   we leave at 7 and have go on 4 ride   the staff be nothing like american disney staff   the ride weren t even as good   load of people smoke   do not go here if you get the chance go to florida it doesn t compare  \n",
            "100.0% the park look lovely   the staff be VISITORly   but really I spend the day in a series of long queue   for food   for ride   for the bathroom   in shop   it be so crowded it be difficult to walk place   some ride have queue of over 2 hour   and yes I know I could have buy a fast pass but why should I have to pay twice to go on the ride   also   in the queue   a lot of the time we be next to french people smoke   despite the no smoking sign   I feel like Disney be really more like any other theme park as oppose to be similar to Disney in florida   we try to make the good of the day but I really wouldn t go again   I can stand outside do nothing for free at home\n",
            "100.0% having just return form our 10th visit to Disney Paris I regret to say that it feel like the magic have finaly die   the park itself could be a wonderful place   as it use to be   but it be now a run down shabby and poorly manage reflection of its former self   our 6 day visit with a young child be beset by many problem which be summarise here   1   people be smoke everywhere in the park except in the ride themselves   although the restaurant area be suppose to be non smoke   people be smoke in the seated area around every restaurant we visit and around all the walkway and playground   we never once witness any staff do anything about it   be the Disney Paris management unaware of the hazard of cigarette smoke or disney s no smoking policy or do they simply not care   2   the park be in a very poor state of repair with numerous hole and trip hazard in the walkway   bit of ride and decor missing or break   ride break down and toilet in a disgraceful state with many block cause long waiting time   the riverboat be take out of service while we be there and we have to wait 45 minute while the pirate ride be fix after break down   most of the rifle in the shooting gallery   cost 2 euro a go   have sight miss   numerous fault and breakage in and around the haunted house   the pirate ship be presumably in such a state of disrepair that people be no long allow on it   the high rope bridge be cover in scaffold   3   there be now no show on at the chaparral theatre   fantasyland stage and castle stage and the only show on in the hyperion be the african drummer who use to play outside of the hakuna matata restaurant   4   queue management now seem to be do to make it easy for the staff rather than fair for the visitor   we be at the front of the queue for attraction several time only to find ourselves not admit first or direct to the back of the ride   5   opening time at some of the well value restaurant have be reduce and now close early in the evening   most of the restaurant do not display their opening time so you can walk across the park for a meal only to find your choose restaurant close\n",
            "100.0% I accept the park have to maintain the ride but too many of the big ride weren t open when we visit today   I be visit with my teenage VISITOR so he only want to go on the big one        I find this a poor experience especially in comparison to the florida park who seem to have a much well operating rythmn\n",
            "96.8% overall   this be not a true representation of a disney theme park   it be a poor relation   they sell way too many ticket   so the park be overcrowded   and there be not enough ride for people to go on   leave huge queue   one morning as we enter there be a wait time of 95 minute    first thing as the door open   this you don t see in florida until well into the day and even then   there be far more ride and fast pass ride   Disney Paris have limit fast pass   half the ride break down on a daily basis   it be a total rip off for food   and what s more   the toilet stink and the character give autograph favour french speaker   our main concern however   be that there be absolutely no organisation of the character give autograph   why can t there be an organised and civil line with people take turn in an orderly manner    the lack of organisation could be a joke except that our VISITOR s safety be no laughing matter   the character be mob   our VISITOR be push and shove by adult and we be alarmed that this happen time and time again   furthermore   follow a show on the stage   the character come off the front of the stage   make the whole crowd surge forward   our VISITOR be crush between three adult who be more bothered about shove their child on a photo   or to get to the packet of sweet the character be hand out   it be totally unsafe   there be no barrier to stop the crowd crush young VISITOR and this sort of action could cause an accident where a child could be injure   we have never be so anxious in a disney park   and it spoil our visit   character should not wander around allow they to be swamp and encourage certain adult behaviour to become desperate and competitive to get to the character   it be not acceptable health and safety in this day and age   the character also wander from their initial spot    they be surround by a huge crowd of people with young VISITOR be push and shove   then they make it bad by move   always with the great mob follow they    we lose our VISITOR on two occasion because the character move   again   this be not safe to do   no other disney park have this irresponsible and disorganised way of access to character   every other disney park have orderly manage line with people take turn   we would also like to point out that despite the rest of europe ban cigarette smoking   the french still allow smoking outdoors   but what be not acceptable be that they allow adult within a disney park to walk around   cigarette hold at child height    ready for a child to be burn by one   it be not acceptable it be suffice to say that we would never return to Paris Disney    it can not guarantee the safety of young VISITOR with its poor and unsafe practice   there be an accident wait to happen   save your money and go to proper Disney in florida   it be a totally happy   safe and amazing experience\n",
            "==================================================\n",
            "Topic 2\n",
            "100.0% I take my 2 visitor to Disney expect a magical dream   how wrong be I     2 hour que for ride    we manage to get on 5 ride in the 2 day we be there   or should I say 4 and a half as one ride break down with we on it   we be then tell that we could have a fast track ticket to compensate we for the inconvienience to then be question and call a liar by staff say they do not believe we have even be on the ride    26 euro on 2 signiture book for 2 signiture     my VISITOR VISITOR and VISITOR VISITOR be in the que for a signiture off daisy duck   when a member of staff come over with a card   hand it to a member of staff stand with daisy duck and physically push my VISITOR backwards shout    special child come throw     my 2 visitor and all the other VISITOR who have be wait patiently in the que have to stand back and watch this so call    special child   push in front of they and have their book sign and photo take with she    they also close off an area for the charactor with only certain VISITOR be let throw in front of all the other VISITOR   clearly if you want to meet the charactor then you pay extra     if you have not get the money then your VISITOR get push to one side and watch the   special   VISITOR meet they    I do not remember see disney advertise this in their magical advert    the food be very expensive and not worth what you pay   13 euro for hotdog and fry    not include a drink    on the way home I ask my VISITOR if they enjoy themselves   my VISITOR inform I that next year he would rather go butlin     this be an experience I never wish to experience again  \n",
            "98.0% my VISITOR   VISITOR VISITOR go to disney to celebrate his 40th and her dream to see Disney castle   on arrival at the disney hotel we be greet eeyore   all very excited and think we be in for a great 5 day   our room be nice but not really 5 star   public room be again pleasant but 5 star not really how I would imagine   buffet breakfast lot of choice but not brilliant taste wise   our first trip into the park be exciting and when we see the castle we be all overjoy   that be the end of the thrill   ride be disappoint   after queue of 45 min to result in a 1 3 min ride no fun   ride be close   our fast track ticket not valid between 1    4 pm    and when we do manage to use they we still queue for 20 min for a peter pan ride which be 70   in darkness with star    at the end of every ride I want to tell the hundred in the queue not to bother   after 2 day my little girl cry to go and want to stay in hotel and swim   the park lack disney character around the ark apart from the parade   so expensive    shop sell all disney wear    princess dress between    65 and    100    food awful and expensive    dinner with the princess pre book in uk    we see 3 princess and the bill with a bottle of wine    190   everyone walk from one queue to the next with miserable face   it be a dreadful expensive trip   a day would be long enough for anyone but I would never do it again   we be tell breakfast with the character   they didn t mention they be outside the breakfast room and have to queue for a photo   we be invite to upgrade on arrival for    200    to have a fast track for all day   but lot of the ride do not have fast track   no no no don t go  \n",
            "99.7% although we pay extra for fast track ticket it be a waste of time as we be not allow to use they   stand in the queue for age in this weather be not what we envision and pay for   didn t have enough time to enjoy most of the ride on our break there   the food be outrageously expensive and the service be terrible   wish we have book Disney instead  \n",
            "100.0% entrance fee      88 on the day we pay     106 per person for 2 day so pleased with that   the ride be not bad   recommend space_mtn   thunder_mtn and indiana_jones in Disney and the good two we have time for in the studio be the tower_of_terror   great fun and finally with some staff who be involve and make it special   and the aeromsith_rocknroller rock and roll coaster again great fun and probably the most I have enjoy a roller coaster especially with the rock music what we learn   pre buy ticket at the cheap price you can find   use the fast track ticket   they be free and mean you can see other stuff while queue but be careful the queue once you use fast track can be the same length as the normal queue if it be short   teenager and adult we think the studio be well for we   don t eat in the park it be stupidly expensive and poor quality   expect to pay an extra     15 to park each day   what a rip off    expect to walk everywhere the train be slow and more of a gentle ride than transport and have queue with no fast track   4 ride be close when we be there   school holiday in august      as be many food stall and restaurant and all these open later on   staff be generally not involve and don t enter into the spirit with some notable exception be one of the train driver and the tower_of_terror team   but most come across as grumpy or uninterested   several building be cover in scaffold which ruin the atmosphere   take rain wear as some of the queue be outside as be most of Disney to sum up we be glad we go but be leave feel rip off by the price and disappoint by the lack of effort   consider the cost it might be well to save the money and put it towards a trip to Disney florida\n",
            "99.6% go with my sisi and her 3 VISITOR   stay at explorer hotel   find that disney park and studio park   that when there be quee for ride our VISITOR be push by other nationality behind who seem to think that they do not have to que for their turn on the ride   also during charcter walk a bout   as soon as they know english VISITOR be wait   would turn to other euopean VISITOR to have photo take my big complaint be at the 5 pm parade I be ask by disney park staff while wait for aprade to start   if I be german on say no english   I be tell to move and take my VISITOR with I   which I refuse as I feel my VISITOR VISITOR have a much right to watch the parade from the front as other VISITOR   low and behold I be tell to move my visitor again so a french VISITOR could see the parade   we do not move I have be to disney in florida 3 time and never experience anything like I do in Paris   this 3 night break cost    1300   I suggest people save up a bit more and have a far well experience in florida   also food so expensive in disney village   5 pizza just over 100 euro   no drink include\n",
            "==================================================\n"
          ]
        },
        {
          "output_type": "stream",
          "name": "stderr",
          "text": [
            "<ipython-input-51-e0084680514d>:1: SettingWithCopyWarning: \n",
            "A value is trying to be set on a copy of a slice from a DataFrame.\n",
            "Try using .loc[row_indexer,col_indexer] = value instead\n",
            "\n",
            "See the caveats in the documentation: https://pandas.pydata.org/pandas-docs/stable/user_guide/indexing.html#returning-a-view-versus-a-copy\n",
            "  disney_neg_PAR['lemma_reviews1'] = disney_neg_PAR['lemma_reviews'].str.replace(r'\\b(vistor|visit|disney|paris|florida)\\b', '', regex=True, flags=re.IGNORECASE)\n",
            "/usr/local/lib/python3.8/dist-packages/sklearn/decomposition/_nmf.py:289: FutureWarning: The 'init' value, when 'init=None' and n_components is less than n_samples and n_features, will be changed from 'nndsvd' to 'nndsvda' in 1.1 (renaming of 0.26).\n",
            "  warnings.warn(\n",
            "/usr/local/lib/python3.8/dist-packages/sklearn/decomposition/_nmf.py:1637: ConvergenceWarning: Maximum number of iterations 200 reached. Increase it to improve convergence.\n",
            "  warnings.warn(\n"
          ]
        }
      ],
      "source": [
        "# revision for topic modeling negative Paris reviews -- took away some words that were distorting signal\n",
        "disney_neg_PAR['lemma_reviews1'] = disney_neg_PAR['lemma_reviews'].str.replace(r'\\b(vistor|visit|disney|paris|florida)\\b', '', regex=True, flags=re.IGNORECASE)\n",
        "\n",
        "X_reviews_neg_PAR1, reviews_neg_PAR_terms1 = vectorizer.fit_transform(disney_neg_PAR.lemma_reviews1), vectorizer.get_feature_names_out()\n",
        "reviews_neg_PAR_tf_idf1 = pd.DataFrame(X_reviews_neg_PAR1.toarray(), columns = reviews_neg_PAR_terms1)\n",
        "\n",
        "W_reviews_neg_PAR1 = nmf.fit_transform(X_reviews_neg_PAR1)\n",
        "H_reviews_neg_PAR1 = nmf.components_\n",
        "\n",
        "print('topic modeling: ')\n",
        "get_top_tf_idf_tokens_for_topic(H_reviews_neg_PAR1, reviews_neg_PAR_tf_idf1.columns.tolist(), 5)\n",
        "\n",
        "print('top documents: ')\n",
        "get_top_documents_for_each_topic(W_reviews_neg_PAR1, disney_neg_PAR.lemma_reviews.tolist())"
      ]
    },
    {
      "cell_type": "code",
      "execution_count": null,
      "metadata": {
        "id": "_E5ih__h_BK-",
        "colab": {
          "base_uri": "https://localhost:8080/"
        },
        "outputId": "b009a746-e738-437c-b5ad-3f0f5079f551"
      },
      "outputs": [
        {
          "output_type": "stream",
          "name": "stdout",
          "text": [
            "topic modeling: \n",
            "TOPIC 0\n",
            "\n",
            "\bcut line (4.7%)\n",
            "\n",
            "\bpark attendant (3.1%)\n",
            "\n",
            "\bsay request (2.9%)\n",
            "\n",
            "\bline say (2.9%)\n",
            "\n",
            "\bshot birthday (2.9%)\n",
            "\n",
            "==================================================\n",
            "TOPIC 1\n",
            "\n",
            "\bocean park (4.7%)\n",
            "\n",
            "\bexpensive disappointment (3.5%)\n",
            "\n",
            "\bespecially hotel (3.5%)\n",
            "\n",
            "\bspend ocean (3.5%)\n",
            "\n",
            "\bpark especially (3.5%)\n",
            "\n",
            "==================================================\n",
            "TOPIC 2\n",
            "\n",
            "\bleave pm (1.2%)\n",
            "\n",
            "\btell outdoor (1.1%)\n",
            "\n",
            "\boutdoor ride (1.1%)\n",
            "\n",
            "\bride open (1.1%)\n",
            "\n",
            "\bmultiple time (1.1%)\n",
            "\n",
            "==================================================\n",
            "top documents: \n",
            "Topic 0\n",
            "100.0% we be in line for the picture session with mickey when they park attendant cut the line and say that it s over   I request for at least one shot as it be my VISITOR s birthday but I be ignore and it be as if I be not hear\n",
            "100.0% the themepark be great   it be not disney s fault that the visitor be rude and unorderly   VISITOR and adult try to push past we to cut in line every minute of the day   will not return\n",
            "100.0% prepay for a 2 day ticket but be only issue a 1 day ticket at the park   cost we 2 hour to fix at the gate on the second day with a visitor which be so cranky after wait that long in the rain   not what you want when travel on a short trip   they do offer a fast pass onto all the ride which be then reject by all the park attendant once we be inside so we spend even long mess around once in the park   send email upon our return and also get no response   disappointing with the organization and service but the park be a good size for a 1 or 2 day visit\n",
            "0.4% we be tell of vip treatment for VISITOR who be celebrate his 8th birthday in disney   I try get more information via email request for assistant but take I more than 5 email and 4 different person before I can place an order for a birthday cake and make a reservation for lunch there we order a disney birthday cake taste good   and make a reservation at the main street corner cafe for a group of 13 people   to our disappointment   no vip treatment at any of the ride   no vip treatment at restaurant   he do receive a   birthday goodie bag   from the cake I order   but   would you consider a party hat   1 sheet of disney serviette   1 disposable plastic spoon and fork   1 colour paper   1 balloon a goodie bag   disappointing   very disappointing my VISITOR have to write in to express out disappointment but   the experience there already leave we sour     will we recommend disney HongKong   my review say it all    \n",
            "0.4% second time here in 11 year and my first visit be well   try to celebrate our honeymoon in 1 of 3 disneyland   they don t have a good pin selection here   just sticker   not impressed since we traditionally get pin from Disney every time we go   customer service be not disney level   people avoid eye contact   only approach we at the dining cafe when we we re signal for help   and some cast member be on their cell phone   we we re try to buy storm trooper magnet and we have to wait for someone to look up from their phone and ring we up   the roller coaster be fun and there be no line it be a wednesday   super clean bathroom and park   toy story land be small but the ride be good for VISITOR   they decorate for halloween so it be enjoyable to see   due the damage from the typhoon   the jungle cruise be close   no biggie but I probably win t want to come back specifically for that ride   thank goodness for the good company I be with   he be able to point out the fun disney decor   which be what I love about disney park\n",
            "==================================================\n",
            "Topic 1\n",
            "100.0% not even close to the Disney in california   the food be horrible and expensive   this be a franchise   so should they have the same food as in Disney california    what happen to the caramel apple   american hotdog and burger   how be you suppose to feel the disney spirit without those thing   I have their version of a burger and it be down right sad   what a shame   I really want to like it but it just wasn t worth my time   there be hardly any attraction or ride   to those who plan to go   skip it and go to ocean park     there s so much more to do\n",
            "100.0% hkg Disney be an expensive disappointment   time and money well spend     go to ocean park    especially if your hotel be on the island side\n",
            "99.6% we be tell of vip treatment for VISITOR who be celebrate his 8th birthday in disney   I try get more information via email request for assistant but take I more than 5 email and 4 different person before I can place an order for a birthday cake and make a reservation for lunch there we order a disney birthday cake taste good   and make a reservation at the main street corner cafe for a group of 13 people   to our disappointment   no vip treatment at any of the ride   no vip treatment at restaurant   he do receive a   birthday goodie bag   from the cake I order   but   would you consider a party hat   1 sheet of disney serviette   1 disposable plastic spoon and fork   1 colour paper   1 balloon a goodie bag   disappointing   very disappointing my VISITOR have to write in to express out disappointment but   the experience there already leave we sour     will we recommend disney HongKong   my review say it all    \n",
            "99.6% second time here in 11 year and my first visit be well   try to celebrate our honeymoon in 1 of 3 disneyland   they don t have a good pin selection here   just sticker   not impressed since we traditionally get pin from Disney every time we go   customer service be not disney level   people avoid eye contact   only approach we at the dining cafe when we we re signal for help   and some cast member be on their cell phone   we we re try to buy storm trooper magnet and we have to wait for someone to look up from their phone and ring we up   the roller coaster be fun and there be no line it be a wednesday   super clean bathroom and park   toy story land be small but the ride be good for VISITOR   they decorate for halloween so it be enjoyable to see   due the damage from the typhoon   the jungle cruise be close   no biggie but I probably win t want to come back specifically for that ride   thank goodness for the good company I be with   he be able to point out the fun disney decor   which be what I love about disney park\n",
            "99.6% crowded place   food be expensive   if you wanna ride be prepared to wait for 30 45 min to be seat   so its time consume to attempt to ride and see all attraction on a day   staff speak minimal english   don t be shock cause rudeness be rampant and common you can bring bottled water inside and small cracker only   but if you be a chinese national you can bring rice meal        prejudice   bias and discrimination at its good    \n",
            "==================================================\n",
            "Topic 2\n",
            "100.0% this be the second Disney I have be to after the one in anaheim   it be my first trip to HongKong however and perhaps the review I m leave be due to having not experience the culture here or the people   but it be my experience the pushing and shove to get onto each ride be ridiculous   mother yank their scream visitor past other to get good seat   I be tread on multiple time   have my face scratch by umbrella and selfie stick   which be prohibit but not police    on every ride we go on all you could see be the flash from camera   on the mystic manor ride you couldn t see the projection because everyone be film it aside from the other people there   half of the park be not open   there be a typhoon warn 3 when we arrive and be tell none of the outdoor ride would be open at all   then when we leave at 2 pm we be tell the outdoor ride be about to open   good thing we didn t leave    all the while all of tomorrow land be close we end up go on about 4 ride multiple time as they be our only option   while getting push and shove and blind by flash\n",
            "100.0% I go to Disney with my VISITOR some time in october and I didn t really like I arrive at 11 am and leave at about 4 pm because it be boring   there be only a few ride and they last for a few minute   the only person that be available to take a picture with be mickey mouse   their be no other character to take picture with   the staff be a bit rude don t think I ll ever be return to this Disney again\n",
            "100.0% this be my first time go to a Disney and I never expect it to be that bad   firstly   hkd be way too overcrowded and they don t limit the amount of visitor there be a day   I believe that 200 people should be the maximum since I only go to a couple of ride   SPACE_MTN    fast track ticket      buzz_lightyear lightyear astro blaster   jungle river cruise   autopia   it s a small world   stitch encounter and slinky dog spin   for I   the stitch encounter and the slinky dog spin be the bad because the stitch encounter be basically watch stitch talk and have a chance of talk to he    on screen   for VISITOR    and I think it be a ride   the que be horribly long    1 hour on a hot day    the slinky dog ride be very bad either   45   minute que to go on a dog ride    3 4 lap of a a circle    which make the ride less than 1 hour   however   I do recommend autopia   SPACE_MTN   astro blastersand the jungle river cruise   on the other hand   the food there be disgusting and dry which cost 98 HongKong dollar    equivilent to    9 80 uk money    what a rip off          the staff have bad manner   the one I experience be the one in the jungle river cruise   somehow   they show disrespect to mainland china people since my VISITOR and I split the group in half because half of we want to rest and half of we want to go on ride   so they find a ride and they call we to go and when we reach there they didn t let we through since they think we be que cutting but my VISITOR be at the front of the que and they be talk disrespectfully to my VISITOR as his first language be mandarin but his cantonese be good   but   when my mum come and speak cantonese they go silent and let we through   here we can the see the discrimination between hongkongese and chinese mainlander   also   people from south west china have well manner than mainlander so I don t understand why they think we be mainlander   I m from the uk and find this a rasict   in conclusion   I find hkd terrible   I do not reccomend hkd to people because of the overcrowded visitor   the positive thing about this trip be that you get to watch the 9 00pm firework and get to learn your lesson   the park open at 8 00 or 9 00 and close at 10 00 but when my VISITOR arrive   there be a bunch of people already there   also   be careful since you be at risk of have your visitor lose   from a review of a teenager from the uk\n",
            "100.0% will not be go back   very expensive and you queue for an hour for a 2 minute ride   the ride be great once you get on but the queue be just too long\n",
            "100.0% we go there in rainy day so it wasn t crowd and most of the show be cancel it be really small and the crew be rude not helpful and not flexible with young VISITOR I will not go there again other Disney much more well\n",
            "==================================================\n"
          ]
        },
        {
          "output_type": "stream",
          "name": "stderr",
          "text": [
            "<ipython-input-52-6757de9aa605>:1: SettingWithCopyWarning: \n",
            "A value is trying to be set on a copy of a slice from a DataFrame.\n",
            "Try using .loc[row_indexer,col_indexer] = value instead\n",
            "\n",
            "See the caveats in the documentation: https://pandas.pydata.org/pandas-docs/stable/user_guide/indexing.html#returning-a-view-versus-a-copy\n",
            "  disney_neg_HK['lemma_reviews1'] = disney_neg_HK['lemma_reviews'].str.replace(r'\\b(visitor|visit|disney|hk|hongkong|tokyoe|really)\\b', '', regex=True, flags=re.IGNORECASE)\n",
            "/usr/local/lib/python3.8/dist-packages/sklearn/decomposition/_nmf.py:289: FutureWarning: The 'init' value, when 'init=None' and n_components is less than n_samples and n_features, will be changed from 'nndsvd' to 'nndsvda' in 1.1 (renaming of 0.26).\n",
            "  warnings.warn(\n",
            "/usr/local/lib/python3.8/dist-packages/sklearn/decomposition/_nmf.py:1637: ConvergenceWarning: Maximum number of iterations 200 reached. Increase it to improve convergence.\n",
            "  warnings.warn(\n"
          ]
        }
      ],
      "source": [
        "# revision for topic modeling negative Hong Kong reviews -- took away some words that were distorting signal\n",
        "\n",
        "disney_neg_HK['lemma_reviews1'] = disney_neg_HK['lemma_reviews'].str.replace(r'\\b(visitor|visit|disney|hk|hongkong|tokyoe|really)\\b', '', regex=True, flags=re.IGNORECASE)\n",
        "\n",
        "X_reviews_neg_HK1, reviews_neg_HK_terms1 = vectorizer.fit_transform(disney_neg_HK.lemma_reviews1), vectorizer.get_feature_names_out()\n",
        "reviews_neg_HK_tf_idf1 = pd.DataFrame(X_reviews_neg_HK1.toarray(), columns = reviews_neg_HK_terms1)\n",
        "\n",
        "W_reviews_neg_HK1 = nmf.fit_transform(X_reviews_neg_HK1)\n",
        "H_reviews_neg_HK1 = nmf.components_\n",
        "\n",
        "print('topic modeling: ')\n",
        "get_top_tf_idf_tokens_for_topic(H_reviews_neg_HK1, reviews_neg_HK_tf_idf1.columns.tolist(), 5)\n",
        "\n",
        "print('top documents: ')\n",
        "get_top_documents_for_each_topic(W_reviews_neg_HK1, disney_neg_HK.lemma_reviews.tolist())"
      ]
    },
    {
      "cell_type": "markdown",
      "source": [
        "#### Extra - Word Cloud "
      ],
      "metadata": {
        "id": "Yq_ANq9kvDQC"
      }
    },
    {
      "cell_type": "code",
      "execution_count": null,
      "metadata": {
        "id": "dAqfvBimZmt6",
        "colab": {
          "base_uri": "https://localhost:8080/",
          "height": 217
        },
        "outputId": "01e54873-629c-483b-98c5-68a51a565112"
      },
      "outputs": [
        {
          "output_type": "execute_result",
          "data": {
            "text/plain": [
              "<PIL.Image.Image image mode=RGB size=400x200 at 0x7FC7966504C0>"
            ],
            "image/png": "[encoded data removed]"
          },
          "metadata": {},
          "execution_count": 53
        }
      ],
      "source": [
        "# Import the wordcloud library\n",
        "from wordcloud import WordCloud\n",
        "# Join the different processed titles together.\n",
        "long_string = ','.join(list(disney_neg['lemma_reviews'].values))\n",
        "# Create a WordCloud object\n",
        "wordcloud = WordCloud(background_color=\"white\", max_words=5000, contour_width=3, contour_color='steelblue')\n",
        "# Generate a word cloud\n",
        "wordcloud.generate(long_string)\n",
        "# Visualize the word cloud\n",
        "# We are using the word cloud to figure out which extra stopwords to add to our stopword bank \n",
        "wordcloud.to_image()"
      ]
    }
  ],
  "metadata": {
    "colab": {
      "provenance": []
    },
    "kernelspec": {
      "display_name": "Python 3",
      "name": "python3"
    },
    "language_info": {
      "name": "python"
    }
  },
  "nbformat": 4,
  "nbformat_minor": 0
}